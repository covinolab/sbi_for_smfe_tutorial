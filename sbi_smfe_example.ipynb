{
  "cells": [
    {
      "cell_type": "markdown",
      "metadata": {
        "id": "view-in-github",
        "colab_type": "text"
      },
      "source": [
        "<a href=\"https://colab.research.google.com/github/covinolab/sbi_for_smfe_tutorial/blob/main/sbi_smfe_example.ipynb\" target=\"_parent\"><img src=\"https://colab.research.google.com/assets/colab-badge.svg\" alt=\"Open In Colab\"/></a>"
      ]
    },
    {
      "cell_type": "markdown",
      "id": "821c2ad5-1024-4ac0-a967-88c9c376cb8f",
      "metadata": {
        "id": "821c2ad5-1024-4ac0-a967-88c9c376cb8f"
      },
      "source": [
        "# Simulation-based inference for single-molecule force-spectroscopy"
      ]
    },
    {
      "cell_type": "code",
      "source": [
        "!pip install bottleneck\n",
        "!pip install sbi"
      ],
      "metadata": {
        "id": "Zu1XaJsoAaE3"
      },
      "id": "Zu1XaJsoAaE3",
      "execution_count": null,
      "outputs": []
    },
    {
      "cell_type": "code",
      "execution_count": 56,
      "id": "c715bca3-40bc-448e-87a9-50b7fd751c51",
      "metadata": {
        "id": "c715bca3-40bc-448e-87a9-50b7fd751c51"
      },
      "outputs": [],
      "source": [
        "import numpy as np\n",
        "import numba as nb\n",
        "import scipy.stats as stats\n",
        "import torch\n",
        "import bottleneck as bn\n",
        "import matplotlib.pyplot as plt\n",
        "\n",
        "from sbi import utils as utils\n",
        "from sbi import analysis as analysis\n",
        "from sbi.inference.base import infer\n",
        "from sbi.inference import SNPE, prepare_for_sbi, simulate_for_sbi"
      ]
    },
    {
      "cell_type": "markdown",
      "id": "138fe2b8-daf0-47d7-82c3-ba32745b5e88",
      "metadata": {
        "id": "138fe2b8-daf0-47d7-82c3-ba32745b5e88"
      },
      "source": [
        "1. ## The Model"
      ]
    },
    {
      "cell_type": "markdown",
      "id": "9f9ec64e-f475-45b5-a65b-b134430c487b",
      "metadata": {
        "id": "9f9ec64e-f475-45b5-a65b-b134430c487b"
      },
      "source": [
        "Let's consider the simplest model for a single molecule-force spectroscopy experiment.\\\n",
        "The free energy profile of the protein end-to-end distance is modeled as a symmetric double-well, with the barrier height being the only variable parameter.\n",
        "\n",
        "The molecular free energy profile $G_0(x)$ is modeled by the following equation:\n",
        "\n",
        "$G_0(x) = \\Delta G^{\\ddagger}\\cdot f(x/x^{\\ddagger})$\n",
        "\n",
        "$f(x) = \n",
        "\\begin{cases}\n",
        "- 2x^2,\\ for\\ 0\\leq |x| \\leq 1/2\\\\\n",
        "2(|x| - 1)^2,\\ for\\ 1/2 < |x|\\\\\n",
        "\\end{cases}$\n",
        "\n",
        "The free energy of the molecular extension and the measured extension is described by:\n",
        "\n",
        "$G(q, x) = G_0(x) + \\frac{\\kappa_l}{2}(x - q)^2$\n",
        "\n",
        "A single realization of a single-molecule experiment can be simulated by solving Brownian motion inside the free energy surface $G(x, q)$:\n",
        "\n",
        "$q(t + \\Delta t) = q(t) -\\beta\\partial_q G(q, x)\\cdot D_q \\Delta t + \\sqrt{2 D_q \\Delta t}\\cdot R_q(t)$\n",
        "\n",
        "$x(t + \\Delta t) = x(t) -\\beta\\partial_x G(q, x)\\cdot D_x \\Delta t + \\sqrt{2 D_x \\Delta t}\\cdot R_x(t)$\n",
        "\n",
        "In the following cell, we build a simple but efficient function to evaluate the latter equations.\n",
        "\n",
        "We used the following names for the variables in the code and the formulas.\n",
        "\n",
        "`deltaG` = $\\Delta G^{\\ddagger}$\n",
        "\n",
        "`x0` and `q0` = Intial position\n",
        "\n",
        "`Dx` = $D_x$\n",
        "\n",
        "`Dq` = $D_q$\n",
        "\n",
        "`deltax` = $x^{\\ddagger}$\n",
        "\n",
        "`k` = $\\kappa_l$"
      ]
    },
    {
      "cell_type": "code",
      "execution_count": 57,
      "id": "ffd7e3ea-5939-454b-be2b-f7bc0ac9db50",
      "metadata": {
        "id": "ffd7e3ea-5939-454b-be2b-f7bc0ac9db50"
      },
      "outputs": [],
      "source": [
        "@nb.jit(nopython=True, fastmath=True)\n",
        "def double_well_integrator(x0=-1.5, q0=-1.5, Dx=1, Dq=1, deltaG=6, deltax=1.5, k=3, T=10000, max_N=1e5):\n",
        "    '''\n",
        "    kbT = 1 \n",
        "    x0      Inital x position\n",
        "    q0      Inital q position\n",
        "    Dx      Diffusion constant in x direction\n",
        "    Dq      Diffusion constant in q direction\n",
        "    T       Total length of the trajectory\n",
        "    N_max   Maximal number of saved frames\n",
        "    deltaG  Height of the potential barrier\n",
        "    deltax  Distance between potential minima\n",
        "    k       Coupling between x and q\n",
        "    '''\n",
        "    \n",
        "    dt = 5e-4 / Dx\n",
        "    N = int(T / dt)\n",
        "    fs = 1\n",
        "    \n",
        "    if max_N < N:\n",
        "        fs = int(N / max_N)\n",
        "\n",
        "    n = int(N / fs)\n",
        "    \n",
        "    Ax = Dx * dt\n",
        "    Bx = np.sqrt(2 * Ax)\n",
        "    Aq = Dq * dt\n",
        "    Bq = np.sqrt(2 * Aq)\n",
        "\n",
        "    q = np.zeros(n)\n",
        "    x = np.zeros(n)\n",
        "    \n",
        "    gq = np.random.standard_normal(size=n)\n",
        "    gx = np.random.standard_normal(size=n)\n",
        "\n",
        "    q[0] = q0\n",
        "    x[0] = x0\n",
        "\n",
        "    xold = x0\n",
        "    qold = q0\n",
        "\n",
        "    for i in range(1, N):\n",
        "\n",
        "        # forces evaluation\n",
        "        x_res = xold / deltax\n",
        "        x_abs = np.abs(x_res)\n",
        "\n",
        "        if x_abs <= 0.5:\n",
        "            Fx = deltaG / deltax * (4 * x_res) - k * (xold - qold)\n",
        "        else:\n",
        "            Fx = - deltaG / deltax * (4 * (x_abs - 1) * np.sign(x_res)) - k * (xold - qold)\n",
        "        Fq = k * (xold - qold)\n",
        "\n",
        "        # Drawing noise \n",
        "        if i%n == 0:\n",
        "            gq = np.random.standard_normal(size=n)\n",
        "            gx = np.random.standard_normal(size=n)\n",
        "\n",
        "            \n",
        "        # integration\n",
        "        xnew = xold + Ax * Fx + Bx * gx[i%n]\n",
        "        qnew = qold + Aq * Fq + Bq * gq[i%n]\n",
        "\n",
        "        if (i % fs) == 0:\n",
        "            q[int(i / fs)] = qnew\n",
        "            x[int(i / fs)] = xnew\n",
        "\n",
        "        xold = xnew\n",
        "        qold = qnew\n",
        "\n",
        "    return x, q"
      ]
    },
    {
      "cell_type": "markdown",
      "id": "a36dd2cf-2c64-4e83-a67d-2cd6c0844e8c",
      "metadata": {
        "id": "a36dd2cf-2c64-4e83-a67d-2cd6c0844e8c"
      },
      "source": [
        "We can run a single simulation in the double-well free energy surface with $D_q/D_x = 1$, $\\Delta G^{\\ddagger}$ = 6 $k_{\\mathrm{B}}T$ and $\\kappa_l = 3$ $k_{\\mathrm{B}}T/[q^2]$\n",
        "by evaluating the function `double_well_integrator` with the corresponding arguments."
      ]
    },
    {
      "cell_type": "code",
      "execution_count": 58,
      "id": "8b49f7f8-84bd-42ba-8eb4-347d87619e01",
      "metadata": {
        "id": "8b49f7f8-84bd-42ba-8eb4-347d87619e01"
      },
      "outputs": [],
      "source": [
        "x, q = double_well_integrator(x0=-1.5, q0=-1.5, Dx=1, Dq=1, deltaG=6, deltax=1.5, k=3, T=10000, max_N=1e5)"
      ]
    },
    {
      "cell_type": "markdown",
      "id": "57db4594-005e-4bd3-b4f2-40fcf755b91a",
      "metadata": {
        "id": "57db4594-005e-4bd3-b4f2-40fcf755b91a"
      },
      "source": [
        "The function returns the projected trajectory along q and x. We visualize the trajectory in the following cell.\\\n",
        "In panel A, we plot the two-dimensional coordinates of the trajectory. In panels B and C the projected trajectories along q and x are plotted and on panel C the histograms of the trajectories of q and x are."
      ]
    },
    {
      "cell_type": "code",
      "execution_count": 59,
      "id": "82b63b24-c67c-43e7-ac47-2b99ef40d536",
      "metadata": {
        "colab": {
          "base_uri": "https://localhost:8080/",
          "height": 592
        },
        "id": "82b63b24-c67c-43e7-ac47-2b99ef40d536",
        "outputId": "b51903cd-f377-4350-eb2d-442ec17d74ac"
      },
      "outputs": [
        {
          "output_type": "display_data",
          "data": {
            "text/plain": [
              "<Figure size 720x720 with 4 Axes>"
            ],
            "image/png": "[encoded data removed]"
          },
          "metadata": {
            "needs_background": "light"
          }
        }
      ],
      "source": [
        "fig, axes = plt.subplots(2, 2, figsize=(10, 10))\n",
        "time = np.linspace(0, 1, int(1e5))\n",
        "\n",
        "axes[0][0].scatter(x, q, s=0.1, alpha=0.3)\n",
        "axes[0][0].set_xlabel('x', fontsize=16)\n",
        "axes[0][0].set_ylabel('q', fontsize=16)\n",
        "axes[0][0].axhline(-1.5, color='gray', linestyle='--')\n",
        "axes[0][0].axhline(1.5, color='gray', linestyle='--')\n",
        "axes[0][0].axvline(-1.5, color='gray', linestyle='--')\n",
        "axes[0][0].axvline(1.5, color='gray', linestyle='--')\n",
        "\n",
        "axes[0][1].scatter(time, q, s=0.1, alpha=0.3)\n",
        "axes[0][1].set_xticks([])\n",
        "axes[0][1].set_xlabel('Time', fontsize=16)\n",
        "axes[0][1].axhline(-1.5, color='gray', linestyle='--')\n",
        "axes[0][1].axhline(1.5, color='gray', linestyle='--')\n",
        "\n",
        "axes[1][0].scatter(x, time, s=0.1, alpha=0.3)\n",
        "axes[1][0].set_yticks([])\n",
        "axes[1][0].set_ylabel('Time', fontsize=16)\n",
        "axes[1][0].axvline(-1.5, color='gray', linestyle='--')\n",
        "axes[1][0].axvline(1.5, color='gray', linestyle='--')\n",
        "\n",
        "_ = axes[1][1].hist(x, density=True, bins=50, alpha=0.4, label='x')\n",
        "_ = axes[1][1].hist(q, density=True, bins=50, alpha=0.4, label='q')\n",
        "axes[1][1].set_yticks([])\n",
        "axes[1][1].legend()\n",
        "\n",
        "for idx, ax in enumerate(fig.get_axes()):\n",
        "    ax.annotate('ABCD'[idx], xy=(0.05, 0.85), fontsize=18, xycoords='axes fraction')"
      ]
    },
    {
      "cell_type": "markdown",
      "id": "fce78e01-f740-4949-a1c1-aba49a579365",
      "metadata": {
        "id": "fce78e01-f740-4949-a1c1-aba49a579365"
      },
      "source": [
        "2. ## The Simulator\n",
        "The simulator should recreate the experimental setting and also includes the computation of summary statistics.\\\n",
        "The summary statistics are used to learn the posterior.\\\n",
        "Since in the experiment we only have access to the measured extension, the simulator only returns the summarized trajectory of the measured extension `q`."
      ]
    },
    {
      "cell_type": "code",
      "execution_count": 60,
      "id": "140ebc57-6774-4ac8-8606-d7a45a95a895",
      "metadata": {
        "id": "140ebc57-6774-4ac8-8606-d7a45a95a895"
      },
      "outputs": [],
      "source": [
        "def propagator(x, t=1):\n",
        "    return x[t:] - x[:-t]\n",
        "\n",
        "\n",
        "@nb.jit(nopython=True)\n",
        "def transitions_count(x):\n",
        "    freq = 0\n",
        "    for i in range(len(x)):\n",
        "        if np.sign(x[i]) == -np.sign(x[i+1]):\n",
        "            freq += 1\n",
        "    return freq\n",
        "\n",
        "\n",
        "def prop_stats(x, t):\n",
        "    delta_x = propagator(x, t=t)\n",
        "    return np.mean(delta_x), np.std(delta_x), stats.skew(delta_x), stats.kurtosis(delta_x)\n",
        "\n",
        "\n",
        "def double_well_simulator(params):\n",
        "\n",
        "    # Simulate the trajectory\n",
        "    params = np.array(params, dtype=float)\n",
        "    _, q = double_well_integrator(\n",
        "        Dx=1, \n",
        "        Dq=(10 ** params[0]), \n",
        "        deltaG=params[1], \n",
        "        deltax=1.5, \n",
        "        k=3, \n",
        "        T=10000, \n",
        "        max_N=2e5\n",
        "    )\n",
        "    \n",
        "    # Calculate trajectory features\n",
        "    delta_1 = prop_stats(q, 1)\n",
        "    delta_10 = prop_stats(q, 10)\n",
        "    delta_100 = prop_stats(q, 100)\n",
        "    delta_1k = prop_stats(q, 1000)\n",
        "    delta_10k = prop_stats(q, 10000)\n",
        "    freq = transitions_count(bn.move_mean(q, window=4000))\n",
        "\n",
        "    # Summary statistics\n",
        "    features = [\n",
        "        freq, np.mean(q), np.std(q), stats.skew(q), stats.kurtosis(q),\n",
        "        delta_1[0], delta_1[1], delta_1[2], delta_1[3],\n",
        "        delta_10[0], delta_10[1], delta_10[2], delta_10[3],\n",
        "        delta_100[0], delta_100[1], delta_100[2], delta_100[3],\n",
        "        delta_1k[0], delta_1k[1], delta_1k[2], delta_1k[3],\n",
        "        delta_10k[0], delta_10k[1], delta_10k[2], delta_10k[3]\n",
        "    ]\n",
        "    \n",
        "    return torch.tensor(features)"
      ]
    },
    {
      "cell_type": "markdown",
      "id": "74659e92-282e-497b-ad52-d1d17b6000cc",
      "metadata": {
        "id": "74659e92-282e-497b-ad52-d1d17b6000cc"
      },
      "source": [
        "3. ## Learning the posterior"
      ]
    },
    {
      "cell_type": "markdown",
      "id": "a26edede-c9a1-4ec5-ab02-a5725f3d75af",
      "metadata": {
        "id": "a26edede-c9a1-4ec5-ab02-a5725f3d75af"
      },
      "source": [
        "### Defining the prior"
      ]
    },
    {
      "cell_type": "markdown",
      "id": "4330f63a-351c-4627-bd04-c76339f71d58",
      "metadata": {
        "id": "4330f63a-351c-4627-bd04-c76339f71d58"
      },
      "source": [
        "First, we need to define our prior $p(\\theta)$, which encodes all our current knowledge about the parameters. \n",
        "In this case, we only want to perform inference for two parameters: The barrier height $\\Delta G^{\\ddagger}$ and the ratio of diffusion coefficients $D_q/D_x$.\\\n",
        "We choose simple uniform priors, and build a PyTorch distribution representing our prior with `utils.BoxUniform`"
      ]
    },
    {
      "cell_type": "code",
      "execution_count": 61,
      "id": "a9efbe45-5bf6-4ab1-93de-ef97fa80b6cb",
      "metadata": {
        "id": "a9efbe45-5bf6-4ab1-93de-ef97fa80b6cb"
      },
      "outputs": [],
      "source": [
        "dG_lims = (3, 8)\n",
        "logD_lims = (-1, 1)"
      ]
    },
    {
      "cell_type": "code",
      "execution_count": 62,
      "id": "cbe67198-70a4-4c16-8271-ba4a32478f7a",
      "metadata": {
        "id": "cbe67198-70a4-4c16-8271-ba4a32478f7a"
      },
      "outputs": [],
      "source": [
        "prior = utils.BoxUniform(low=torch.tensor([logD_lims[0], dG_lims[0]]), high=torch.tensor([logD_lims[1], dG_lims[1]]))"
      ]
    },
    {
      "cell_type": "markdown",
      "id": "b8958014-a86f-41bb-8038-5255d1a0b2c4",
      "metadata": {
        "id": "b8958014-a86f-41bb-8038-5255d1a0b2c4"
      },
      "source": [
        "To check that everything works accordingly we can use `prepare_for_sbi` in order to check our prior and our simulator."
      ]
    },
    {
      "cell_type": "code",
      "execution_count": 63,
      "id": "f7187f2d-d956-4d05-9efe-fb5112eb4f35",
      "metadata": {
        "id": "f7187f2d-d956-4d05-9efe-fb5112eb4f35"
      },
      "outputs": [],
      "source": [
        "double_well_simulator, prior = prepare_for_sbi(double_well_simulator, prior)"
      ]
    },
    {
      "cell_type": "markdown",
      "id": "b0d20756-cdf8-4d7f-83f6-e4d522963a1e",
      "metadata": {
        "id": "b0d20756-cdf8-4d7f-83f6-e4d522963a1e"
      },
      "source": [
        "### Density estimation to approximate the posterior"
      ]
    },
    {
      "cell_type": "markdown",
      "id": "27b94d90-2cc8-4658-b916-c780642aff4d",
      "metadata": {
        "id": "27b94d90-2cc8-4658-b916-c780642aff4d"
      },
      "source": [
        "Finally, we can start to build our posterior.\\\n",
        "The `SNPE` class implemented in the SBI toolkit can do everything for us in PyTorch.\n",
        "We initiate an `SNPE` object and give it our prior and the density estimation method as an argument.\\\n",
        "In this case, we use a simple mixture density network by specifying `density_estimator='mdn'`."
      ]
    },
    {
      "cell_type": "code",
      "execution_count": 64,
      "id": "602edb45-7ebe-48aa-a9fb-b87a9f7410ab",
      "metadata": {
        "id": "602edb45-7ebe-48aa-a9fb-b87a9f7410ab"
      },
      "outputs": [],
      "source": [
        "inference = SNPE(prior=prior, density_estimator='mdn')"
      ]
    },
    {
      "cell_type": "markdown",
      "id": "5b0f3504-e7d7-40d9-be21-c44b8df654bb",
      "metadata": {
        "id": "5b0f3504-e7d7-40d9-be21-c44b8df654bb"
      },
      "source": [
        "To train approximate the posterior we generate our training data using our simulator.\\\n",
        "Therefore we darw parameters $\\theta_i\\sim p(\\theta)$ and use them to run run our model $q_i\\sim  \\mathcal{M}(\\theta)$.\\\n",
        "In the end, we have a dataset containing parameters and corresponding simulations $\\mathcal{D} = \\{(\\theta_i, q_i)\\}_{i=0}^N$"
      ]
    },
    {
      "cell_type": "markdown",
      "source": [
        "You can run new simulations here or load a dataset of simulations in the next cell."
      ],
      "metadata": {
        "id": "i45pmbxcxikL"
      },
      "id": "i45pmbxcxikL"
    },
    {
      "cell_type": "code",
      "execution_count": null,
      "id": "593d942b-4e96-40bd-832a-95a3dded9c77",
      "metadata": {
        "id": "593d942b-4e96-40bd-832a-95a3dded9c77"
      },
      "outputs": [],
      "source": [
        "theta, x = simulate_for_sbi(double_well_simulator, prior, num_simulations=100, num_workers=2, simulation_batch_size=1)"
      ]
    },
    {
      "cell_type": "markdown",
      "source": [
        "Instead of running the simulations here, you can also run the following cell and download pre-simulated data. \n",
        "The data set was generated with a prior limts `dG_lims = (3, 8) logD_lims = (-1, 1)` and contains 10,000 simulated samples."
      ],
      "metadata": {
        "id": "t1B1F8TcujhD"
      },
      "id": "t1B1F8TcujhD"
    },
    {
      "cell_type": "code",
      "source": [
        "!wget https://github.com/covinolab/sbi_for_smfe_tutorial/raw/main/theta_samples.pt\n",
        "!wget https://github.com/covinolab/sbi_for_smfe_tutorial/raw/main/x_samples.pt\n",
        "theta = torch.load('theta_samples.pt')\n",
        "x = torch.load('x_samples.pt')"
      ],
      "metadata": {
        "id": "Vb2l67L5t87E"
      },
      "id": "Vb2l67L5t87E",
      "execution_count": null,
      "outputs": []
    },
    {
      "cell_type": "markdown",
      "id": "4761932e-7031-405e-bb04-650ea9c37005",
      "metadata": {
        "id": "4761932e-7031-405e-bb04-650ea9c37005"
      },
      "source": [
        "We train our neural network on $\\mathcal{D}$ to approximate the posterior."
      ]
    },
    {
      "cell_type": "code",
      "execution_count": 67,
      "id": "e84b4c43-d69d-48f9-95d2-e2262e6dacbe",
      "metadata": {
        "colab": {
          "base_uri": "https://localhost:8080/"
        },
        "id": "e84b4c43-d69d-48f9-95d2-e2262e6dacbe",
        "outputId": "1bc72ace-c8b0-4ce6-a8ec-bddbb180e52e"
      },
      "outputs": [
        {
          "output_type": "stream",
          "name": "stdout",
          "text": [
            " Neural network successfully converged after 264 epochs.\n",
            "        -------------------------\n",
            "        ||||| ROUND 1 STATS |||||:\n",
            "        -------------------------\n",
            "        Epochs trained: 264\n",
            "        Best validation performance: 4.3074\n",
            "        -------------------------\n",
            "        \n"
          ]
        }
      ],
      "source": [
        "density_estimator = inference.append_simulations(theta, x).train(show_train_summary=True)"
      ]
    },
    {
      "cell_type": "code",
      "execution_count": 68,
      "id": "3ce729e9-2d1f-4281-a2aa-d37021c8a20b",
      "metadata": {
        "id": "3ce729e9-2d1f-4281-a2aa-d37021c8a20b"
      },
      "outputs": [],
      "source": [
        "posterior = inference.build_posterior(density_estimator)"
      ]
    },
    {
      "cell_type": "markdown",
      "id": "bc040d49-e961-42ca-a9f6-eec8a2037cd6",
      "metadata": {
        "id": "bc040d49-e961-42ca-a9f6-eec8a2037cd6"
      },
      "source": [
        "4. ## Generating an synthetic observation"
      ]
    },
    {
      "cell_type": "markdown",
      "id": "f772f8d0-22be-4a37-8e52-2c1504f0a12c",
      "metadata": {
        "id": "f772f8d0-22be-4a37-8e52-2c1504f0a12c"
      },
      "source": [
        "To test how well our approximate posterior, we can use our simulator $\\mathcal{M}(\\theta)$ to generate a synthetic observation $q_{obs} \\sim \\mathcal{M}(\\theta_{obs})$.\\\n",
        "Evaluating our posterior with the observation $q_{obs}$ we can see whether the true parameter $\\theta_{obs}$ is supported by the posterior. "
      ]
    },
    {
      "cell_type": "code",
      "execution_count": 69,
      "id": "c6eea324-c4b7-47eb-ab29-b3c083c792a3",
      "metadata": {
        "id": "c6eea324-c4b7-47eb-ab29-b3c083c792a3"
      },
      "outputs": [],
      "source": [
        "true_params = torch.tensor([[-0.5, 5]])"
      ]
    },
    {
      "cell_type": "code",
      "execution_count": 70,
      "id": "521155a8-4031-4659-af72-e868002656fb",
      "metadata": {
        "id": "521155a8-4031-4659-af72-e868002656fb"
      },
      "outputs": [],
      "source": [
        "observation = double_well_simulator(true_params)"
      ]
    },
    {
      "cell_type": "markdown",
      "id": "ec34ce0d-e26f-49d3-88fb-8033bab97ae6",
      "metadata": {
        "id": "ec34ce0d-e26f-49d3-88fb-8033bab97ae6"
      },
      "source": [
        "5. ## Inferring the parameters"
      ]
    },
    {
      "cell_type": "markdown",
      "id": "6a779295-9447-4a44-8a57-1ac43f7a3558",
      "metadata": {
        "id": "6a779295-9447-4a44-8a57-1ac43f7a3558"
      },
      "source": [
        "In the following plot, we can see the posterior given our generated observation $q_{obs}$.\n",
        "The red line indicates the true parameter $\\theta_{obs}$"
      ]
    },
    {
      "cell_type": "code",
      "execution_count": 71,
      "id": "001e4fb9-5d01-4f3f-8de4-1d765bd61f4f",
      "metadata": {
        "colab": {
          "base_uri": "https://localhost:8080/",
          "height": 491,
          "referenced_widgets": [
            "31d93dbcf6c84774a04c577627672650",
            "dbbbe234c32a4ef5b1eeb782b17cdfc7",
            "4e6c1c396f084276ae81b0abb53a9a09",
            "0fdc9969e8f24710b3b22cb1ab9b8d2f",
            "a01d8516b824481184665ffaac321195",
            "65ca863100754083ba1c1b743d129ba7",
            "d948d97192394d8eb5d2caa19a747f40",
            "3bed32879e354683b77b10944d5a6355",
            "5425dd8ac34c46ada45345a658e405cd",
            "858495681806410793ebd1aec498886e",
            "e5f155551f274fc6bc31975283ec78f0"
          ]
        },
        "id": "001e4fb9-5d01-4f3f-8de4-1d765bd61f4f",
        "outputId": "a15ce761-0d04-4657-f240-1b6cb063a9b7"
      },
      "outputs": [
        {
          "output_type": "display_data",
          "data": {
            "text/plain": [
              "Drawing 50000 posterior samples:   0%|          | 0/50000 [00:00<?, ?it/s]"
            ],
            "application/vnd.jupyter.widget-view+json": {
              "version_major": 2,
              "version_minor": 0,
              "model_id": "31d93dbcf6c84774a04c577627672650"
            }
          },
          "metadata": {}
        },
        {
          "output_type": "display_data",
          "data": {
            "text/plain": [
              "<Figure size 504x504 with 4 Axes>"
            ],
            "image/png": "[encoded data removed]"
          },
          "metadata": {
            "needs_background": "light"
          }
        }
      ],
      "source": [
        "samples = posterior.sample((50000,), x=observation)\n",
        "_ = analysis.pairplot(\n",
        "    samples,\n",
        "    limits=[logD_lims, dG_lims],\n",
        "    figsize=(7,7),\n",
        "    points=true_params, \n",
        "    points_offdiag={'markersize': 6},\n",
        "    points_colors='r', \n",
        "    labels=['$log(D_q/D_x)$', '$\\Delta G$']\n",
        ")"
      ]
    },
    {
      "cell_type": "markdown",
      "id": "247a669d-c277-45b9-b014-4f8dc58f66ae",
      "metadata": {
        "id": "247a669d-c277-45b9-b014-4f8dc58f66ae"
      },
      "source": [
        "5. ## Sequential posterior estimation"
      ]
    },
    {
      "cell_type": "markdown",
      "id": "4803e8eb-a4b0-459f-a429-029e88db14f7",
      "metadata": {
        "id": "4803e8eb-a4b0-459f-a429-029e88db14f7"
      },
      "source": [
        "If we are only interested in a the posterior for a single observation we can sequentially estimate the posterior, which needs less simulations. \n",
        "In the following cell we sequentially estimate the posterior for the precomputed observation $q_{obs}$"
      ]
    },
    {
      "cell_type": "code",
      "execution_count": 72,
      "id": "725f96a8-89f6-41b6-82d0-9d6cf1b07f46",
      "metadata": {
        "colab": {
          "base_uri": "https://localhost:8080/",
          "height": 262,
          "referenced_widgets": [
            "8701cc0b6fbc4993b420a8d6e76a6679",
            "cbe9a7a8939441b090ddd522162f9ea4",
            "be832c278df241f192b0e928cf30d16a",
            "d3c5bf388d074bd79cd1687daca97305",
            "d8808112104b4dd69e37c816a5fc280e",
            "0fdb847161f448ba9a6228bf6294c096",
            "fa445a1b5a674be2b95f3716451a0159",
            "8a645a9b7ff44ba0bf1d74f763f1829e",
            "aefe124ab1784a1f8d9d4445169bfd79",
            "a51dedac7ddb4907b73020f1248fbac2",
            "4da5d560eb974dcf8e44c03d1809b0a9",
            "a5b0a5335f274addaf0ec31f2a2418be",
            "6543b48645324fba8948591b9f457fad",
            "460eb07e966f42d38051df52a742a00c",
            "c0cf7a7ec1d045729c1bf08a15f66c24",
            "a9ce79001853480baef800db8f971092",
            "2c38ba59725b4bcf89389a8d065e4f40",
            "5c56f513dfe840ab934cf29d7f9de42f",
            "697f99d0480c4c0084b6bf0ced9e02f3",
            "6ff44322c89243d1af7930794af99032",
            "fd0b175a6da54adea30b8cfb6192cc37",
            "3a187bf58e254fc09709d4837ddfdde8",
            "fe544e1363b6484f8d65183ac1190b84",
            "d6c7888373344ca88790b944b50738eb",
            "be19bef614c844ff804b08f752a84a0f",
            "160894037bbf40dda01428619b7e45ac",
            "23ad0d87305841099b3f7d45dec841f4",
            "3b930b7794e44b0d8fa6918197e97c54",
            "f44499575be04d3a8bf8a2a1988e0383",
            "741099faf4ec429b85b72c357e54fe90",
            "519d74e0c9a243c7afd2edc86664fb8b",
            "f5df1972af944ba7af037f8f404ae7a7",
            "2c937f3ae2db47dcbaad9f998bfee0e6",
            "c83f2a3c1d834023a789a7db7d78bea0",
            "47d42465933b436f9891c2696825c852",
            "f2249873e3f04c049030ff63376253f7",
            "c19dcbce9cb9436c82ffb94d2ff7f859",
            "61e9553765854bc0bf611014c8e5db41",
            "e710ee5005c24b43aee054404bc0ec42",
            "ae61eda1e2e640c5aaa4839a3abacbac",
            "737497e1216d441984d91e4a657c1192",
            "ddf3a9d61c9248eab5724f53bb60e32e",
            "27fc000fde864d35a69d18a26a9749bb",
            "2c42950bd86546758de0a915ceac08a5",
            "63366a5a17284b1290342a0f2295b12f",
            "557c96c8011a4ec5b4c26e9944d4ab39",
            "88752b5c8104426086b10c06ddd30d9c",
            "eed91009dfdc492c8ec737973bbcab34",
            "1a81108349bd406189941c4344257fcd",
            "72356e18b42e460a8d7618fd4ef40032",
            "bdf18dc987ea4a2e9530afe4999fabd9",
            "8978732e058d415bbe3e155aa7d6f900",
            "98d727eb2f2c476a94c0421d003e8882",
            "1d18e018e53c4f8a9cd96bc4c8bd4992",
            "850d998c4cac40288aae009a15c36af1"
          ]
        },
        "id": "725f96a8-89f6-41b6-82d0-9d6cf1b07f46",
        "outputId": "d307355b-14d8-45cf-f9bd-b4f0856cb5a3"
      },
      "outputs": [
        {
          "output_type": "display_data",
          "data": {
            "text/plain": [
              "Running 100 simulations in 100 batches.:   0%|          | 0/100 [00:00<?, ?it/s]"
            ],
            "application/vnd.jupyter.widget-view+json": {
              "version_major": 2,
              "version_minor": 0,
              "model_id": "8701cc0b6fbc4993b420a8d6e76a6679"
            }
          },
          "metadata": {}
        },
        {
          "output_type": "stream",
          "name": "stdout",
          "text": [
            " Neural network successfully converged after 184 epochs."
          ]
        },
        {
          "output_type": "display_data",
          "data": {
            "text/plain": [
              "Drawing 100 posterior samples:   0%|          | 0/100 [00:00<?, ?it/s]"
            ],
            "application/vnd.jupyter.widget-view+json": {
              "version_major": 2,
              "version_minor": 0,
              "model_id": "a5b0a5335f274addaf0ec31f2a2418be"
            }
          },
          "metadata": {}
        },
        {
          "output_type": "display_data",
          "data": {
            "text/plain": [
              "Running 100 simulations in 100 batches.:   0%|          | 0/100 [00:00<?, ?it/s]"
            ],
            "application/vnd.jupyter.widget-view+json": {
              "version_major": 2,
              "version_minor": 0,
              "model_id": "fe544e1363b6484f8d65183ac1190b84"
            }
          },
          "metadata": {}
        },
        {
          "output_type": "stream",
          "name": "stdout",
          "text": [
            "Using SNPE-C with non-atomic loss\n",
            " Neural network successfully converged after 48 epochs."
          ]
        },
        {
          "output_type": "display_data",
          "data": {
            "text/plain": [
              "Drawing 100 posterior samples:   0%|          | 0/100 [00:00<?, ?it/s]"
            ],
            "application/vnd.jupyter.widget-view+json": {
              "version_major": 2,
              "version_minor": 0,
              "model_id": "c83f2a3c1d834023a789a7db7d78bea0"
            }
          },
          "metadata": {}
        },
        {
          "output_type": "display_data",
          "data": {
            "text/plain": [
              "Running 100 simulations in 100 batches.:   0%|          | 0/100 [00:00<?, ?it/s]"
            ],
            "application/vnd.jupyter.widget-view+json": {
              "version_major": 2,
              "version_minor": 0,
              "model_id": "63366a5a17284b1290342a0f2295b12f"
            }
          },
          "metadata": {}
        },
        {
          "output_type": "stream",
          "name": "stdout",
          "text": [
            "Using SNPE-C with non-atomic loss\n",
            " Neural network successfully converged after 29 epochs."
          ]
        }
      ],
      "source": [
        "seq_posteriors = []\n",
        "proposal = prior\n",
        "num_rounds = 3\n",
        "\n",
        "seq_inference = SNPE(prior=prior, density_estimator='mdn')\n",
        "for _ in range(num_rounds):\n",
        "    theta, x = simulate_for_sbi(double_well_simulator, proposal, num_simulations=100, num_workers=2, simulation_batch_size=1)\n",
        "    seq_density_estimator = seq_inference.append_simulations(theta, x, proposal=proposal).train()\n",
        "    seq_posterior = seq_inference.build_posterior(seq_density_estimator)\n",
        "    seq_posteriors.append(seq_posterior)\n",
        "    proposal = seq_posterior.set_default_x(observation)"
      ]
    },
    {
      "cell_type": "code",
      "execution_count": 73,
      "id": "72414bb4-f3d5-4e16-af7a-f60014e1a71c",
      "metadata": {
        "colab": {
          "base_uri": "https://localhost:8080/",
          "height": 491,
          "referenced_widgets": [
            "5afe37e06355459ea99112bcd81e0a67",
            "964001b1a0104fdeba73396fece4b9d2",
            "1cd65f907f6c422b800056f7c28360e8",
            "2726b44bec39490a836a6bdbe6970ad0",
            "57eccadbd475427eb212409ca06b86fc",
            "f24f363a23b246e18ba76c1138be799e",
            "a245e9f9e15946abb4c0171fb9f74173",
            "c319cf8b85dd4678898b665bf0ec6d49",
            "84af16a7f6644bacbad1f74258815ae5",
            "de614233b4684489bbe3d691a042d988",
            "7abbebd30fa943a59e73956a1ea4f713"
          ]
        },
        "id": "72414bb4-f3d5-4e16-af7a-f60014e1a71c",
        "outputId": "daa7162f-1349-4f02-a390-b27130facfe0"
      },
      "outputs": [
        {
          "output_type": "display_data",
          "data": {
            "text/plain": [
              "Drawing 1000000 posterior samples:   0%|          | 0/1000000 [00:00<?, ?it/s]"
            ],
            "application/vnd.jupyter.widget-view+json": {
              "version_major": 2,
              "version_minor": 0,
              "model_id": "5afe37e06355459ea99112bcd81e0a67"
            }
          },
          "metadata": {}
        },
        {
          "output_type": "display_data",
          "data": {
            "text/plain": [
              "<Figure size 504x504 with 4 Axes>"
            ],
            "image/png": "[encoded data removed]"
          },
          "metadata": {
            "needs_background": "light"
          }
        }
      ],
      "source": [
        "seq_samples = seq_posterior.sample((1000000,))\n",
        "_ = analysis.pairplot(\n",
        "    seq_samples,\n",
        "    limits=[logD_lims, dG_lims],\n",
        "    figsize=(7,7),\n",
        "    points=true_params,\n",
        "    points_offdiag={'markersize': 6},\n",
        "    points_colors='r',\n",
        "    labels=['$log(D_q/D_x)$', '$\\Delta G$']\n",
        ")"
      ]
    }
  ],
  "metadata": {
    "kernelspec": {
      "display_name": "Python 3 (ipykernel)",
      "language": "python",
      "name": "python3"
    },
    "language_info": {
      "codemirror_mode": {
        "name": "ipython",
        "version": 3
      },
      "file_extension": ".py",
      "mimetype": "text/x-python",
      "name": "python",
      "nbconvert_exporter": "python",
      "pygments_lexer": "ipython3",
      "version": "3.8.8"
    },
    "widgets": {
      "application/vnd.jupyter.widget-state+json": {
        "31d93dbcf6c84774a04c577627672650": {
          "model_module": "@jupyter-widgets/controls",
          "model_name": "HBoxModel",
          "model_module_version": "1.5.0",
          "state": {
            "_dom_classes": [],
            "_model_module": "@jupyter-widgets/controls",
            "_model_module_version": "1.5.0",
            "_model_name": "HBoxModel",
            "_view_count": null,
            "_view_module": "@jupyter-widgets/controls",
            "_view_module_version": "1.5.0",
            "_view_name": "HBoxView",
            "box_style": "",
            "children": [
              "IPY_MODEL_dbbbe234c32a4ef5b1eeb782b17cdfc7",
              "IPY_MODEL_4e6c1c396f084276ae81b0abb53a9a09",
              "IPY_MODEL_0fdc9969e8f24710b3b22cb1ab9b8d2f"
            ],
            "layout": "IPY_MODEL_a01d8516b824481184665ffaac321195"
          }
        },
        "dbbbe234c32a4ef5b1eeb782b17cdfc7": {
          "model_module": "@jupyter-widgets/controls",
          "model_name": "HTMLModel",
          "model_module_version": "1.5.0",
          "state": {
            "_dom_classes": [],
            "_model_module": "@jupyter-widgets/controls",
            "_model_module_version": "1.5.0",
            "_model_name": "HTMLModel",
            "_view_count": null,
            "_view_module": "@jupyter-widgets/controls",
            "_view_module_version": "1.5.0",
            "_view_name": "HTMLView",
            "description": "",
            "description_tooltip": null,
            "layout": "IPY_MODEL_65ca863100754083ba1c1b743d129ba7",
            "placeholder": "​",
            "style": "IPY_MODEL_d948d97192394d8eb5d2caa19a747f40",
            "value": "Drawing 50000 posterior samples: 100%"
          }
        },
        "4e6c1c396f084276ae81b0abb53a9a09": {
          "model_module": "@jupyter-widgets/controls",
          "model_name": "FloatProgressModel",
          "model_module_version": "1.5.0",
          "state": {
            "_dom_classes": [],
            "_model_module": "@jupyter-widgets/controls",
            "_model_module_version": "1.5.0",
            "_model_name": "FloatProgressModel",
            "_view_count": null,
            "_view_module": "@jupyter-widgets/controls",
            "_view_module_version": "1.5.0",
            "_view_name": "ProgressView",
            "bar_style": "success",
            "description": "",
            "description_tooltip": null,
            "layout": "IPY_MODEL_3bed32879e354683b77b10944d5a6355",
            "max": 50000,
            "min": 0,
            "orientation": "horizontal",
            "style": "IPY_MODEL_5425dd8ac34c46ada45345a658e405cd",
            "value": 50000
          }
        },
        "0fdc9969e8f24710b3b22cb1ab9b8d2f": {
          "model_module": "@jupyter-widgets/controls",
          "model_name": "HTMLModel",
          "model_module_version": "1.5.0",
          "state": {
            "_dom_classes": [],
            "_model_module": "@jupyter-widgets/controls",
            "_model_module_version": "1.5.0",
            "_model_name": "HTMLModel",
            "_view_count": null,
            "_view_module": "@jupyter-widgets/controls",
            "_view_module_version": "1.5.0",
            "_view_name": "HTMLView",
            "description": "",
            "description_tooltip": null,
            "layout": "IPY_MODEL_858495681806410793ebd1aec498886e",
            "placeholder": "​",
            "style": "IPY_MODEL_e5f155551f274fc6bc31975283ec78f0",
            "value": " 50000/50000 [00:00&lt;00:00, 731456.63it/s]"
          }
        },
        "a01d8516b824481184665ffaac321195": {
          "model_module": "@jupyter-widgets/base",
          "model_name": "LayoutModel",
          "model_module_version": "1.2.0",
          "state": {
            "_model_module": "@jupyter-widgets/base",
            "_model_module_version": "1.2.0",
            "_model_name": "LayoutModel",
            "_view_count": null,
            "_view_module": "@jupyter-widgets/base",
            "_view_module_version": "1.2.0",
            "_view_name": "LayoutView",
            "align_content": null,
            "align_items": null,
            "align_self": null,
            "border": null,
            "bottom": null,
            "display": null,
            "flex": null,
            "flex_flow": null,
            "grid_area": null,
            "grid_auto_columns": null,
            "grid_auto_flow": null,
            "grid_auto_rows": null,
            "grid_column": null,
            "grid_gap": null,
            "grid_row": null,
            "grid_template_areas": null,
            "grid_template_columns": null,
            "grid_template_rows": null,
            "height": null,
            "justify_content": null,
            "justify_items": null,
            "left": null,
            "margin": null,
            "max_height": null,
            "max_width": null,
            "min_height": null,
            "min_width": null,
            "object_fit": null,
            "object_position": null,
            "order": null,
            "overflow": null,
            "overflow_x": null,
            "overflow_y": null,
            "padding": null,
            "right": null,
            "top": null,
            "visibility": null,
            "width": null
          }
        },
        "65ca863100754083ba1c1b743d129ba7": {
          "model_module": "@jupyter-widgets/base",
          "model_name": "LayoutModel",
          "model_module_version": "1.2.0",
          "state": {
            "_model_module": "@jupyter-widgets/base",
            "_model_module_version": "1.2.0",
            "_model_name": "LayoutModel",
            "_view_count": null,
            "_view_module": "@jupyter-widgets/base",
            "_view_module_version": "1.2.0",
            "_view_name": "LayoutView",
            "align_content": null,
            "align_items": null,
            "align_self": null,
            "border": null,
            "bottom": null,
            "display": null,
            "flex": null,
            "flex_flow": null,
            "grid_area": null,
            "grid_auto_columns": null,
            "grid_auto_flow": null,
            "grid_auto_rows": null,
            "grid_column": null,
            "grid_gap": null,
            "grid_row": null,
            "grid_template_areas": null,
            "grid_template_columns": null,
            "grid_template_rows": null,
            "height": null,
            "justify_content": null,
            "justify_items": null,
            "left": null,
            "margin": null,
            "max_height": null,
            "max_width": null,
            "min_height": null,
            "min_width": null,
            "object_fit": null,
            "object_position": null,
            "order": null,
            "overflow": null,
            "overflow_x": null,
            "overflow_y": null,
            "padding": null,
            "right": null,
            "top": null,
            "visibility": null,
            "width": null
          }
        },
        "d948d97192394d8eb5d2caa19a747f40": {
          "model_module": "@jupyter-widgets/controls",
          "model_name": "DescriptionStyleModel",
          "model_module_version": "1.5.0",
          "state": {
            "_model_module": "@jupyter-widgets/controls",
            "_model_module_version": "1.5.0",
            "_model_name": "DescriptionStyleModel",
            "_view_count": null,
            "_view_module": "@jupyter-widgets/base",
            "_view_module_version": "1.2.0",
            "_view_name": "StyleView",
            "description_width": ""
          }
        },
        "3bed32879e354683b77b10944d5a6355": {
          "model_module": "@jupyter-widgets/base",
          "model_name": "LayoutModel",
          "model_module_version": "1.2.0",
          "state": {
            "_model_module": "@jupyter-widgets/base",
            "_model_module_version": "1.2.0",
            "_model_name": "LayoutModel",
            "_view_count": null,
            "_view_module": "@jupyter-widgets/base",
            "_view_module_version": "1.2.0",
            "_view_name": "LayoutView",
            "align_content": null,
            "align_items": null,
            "align_self": null,
            "border": null,
            "bottom": null,
            "display": null,
            "flex": null,
            "flex_flow": null,
            "grid_area": null,
            "grid_auto_columns": null,
            "grid_auto_flow": null,
            "grid_auto_rows": null,
            "grid_column": null,
            "grid_gap": null,
            "grid_row": null,
            "grid_template_areas": null,
            "grid_template_columns": null,
            "grid_template_rows": null,
            "height": null,
            "justify_content": null,
            "justify_items": null,
            "left": null,
            "margin": null,
            "max_height": null,
            "max_width": null,
            "min_height": null,
            "min_width": null,
            "object_fit": null,
            "object_position": null,
            "order": null,
            "overflow": null,
            "overflow_x": null,
            "overflow_y": null,
            "padding": null,
            "right": null,
            "top": null,
            "visibility": null,
            "width": null
          }
        },
        "5425dd8ac34c46ada45345a658e405cd": {
          "model_module": "@jupyter-widgets/controls",
          "model_name": "ProgressStyleModel",
          "model_module_version": "1.5.0",
          "state": {
            "_model_module": "@jupyter-widgets/controls",
            "_model_module_version": "1.5.0",
            "_model_name": "ProgressStyleModel",
            "_view_count": null,
            "_view_module": "@jupyter-widgets/base",
            "_view_module_version": "1.2.0",
            "_view_name": "StyleView",
            "bar_color": null,
            "description_width": ""
          }
        },
        "858495681806410793ebd1aec498886e": {
          "model_module": "@jupyter-widgets/base",
          "model_name": "LayoutModel",
          "model_module_version": "1.2.0",
          "state": {
            "_model_module": "@jupyter-widgets/base",
            "_model_module_version": "1.2.0",
            "_model_name": "LayoutModel",
            "_view_count": null,
            "_view_module": "@jupyter-widgets/base",
            "_view_module_version": "1.2.0",
            "_view_name": "LayoutView",
            "align_content": null,
            "align_items": null,
            "align_self": null,
            "border": null,
            "bottom": null,
            "display": null,
            "flex": null,
            "flex_flow": null,
            "grid_area": null,
            "grid_auto_columns": null,
            "grid_auto_flow": null,
            "grid_auto_rows": null,
            "grid_column": null,
            "grid_gap": null,
            "grid_row": null,
            "grid_template_areas": null,
            "grid_template_columns": null,
            "grid_template_rows": null,
            "height": null,
            "justify_content": null,
            "justify_items": null,
            "left": null,
            "margin": null,
            "max_height": null,
            "max_width": null,
            "min_height": null,
            "min_width": null,
            "object_fit": null,
            "object_position": null,
            "order": null,
            "overflow": null,
            "overflow_x": null,
            "overflow_y": null,
            "padding": null,
            "right": null,
            "top": null,
            "visibility": null,
            "width": null
          }
        },
        "e5f155551f274fc6bc31975283ec78f0": {
          "model_module": "@jupyter-widgets/controls",
          "model_name": "DescriptionStyleModel",
          "model_module_version": "1.5.0",
          "state": {
            "_model_module": "@jupyter-widgets/controls",
            "_model_module_version": "1.5.0",
            "_model_name": "DescriptionStyleModel",
            "_view_count": null,
            "_view_module": "@jupyter-widgets/base",
            "_view_module_version": "1.2.0",
            "_view_name": "StyleView",
            "description_width": ""
          }
        },
        "8701cc0b6fbc4993b420a8d6e76a6679": {
          "model_module": "@jupyter-widgets/controls",
          "model_name": "HBoxModel",
          "model_module_version": "1.5.0",
          "state": {
            "_dom_classes": [],
            "_model_module": "@jupyter-widgets/controls",
            "_model_module_version": "1.5.0",
            "_model_name": "HBoxModel",
            "_view_count": null,
            "_view_module": "@jupyter-widgets/controls",
            "_view_module_version": "1.5.0",
            "_view_name": "HBoxView",
            "box_style": "",
            "children": [
              "IPY_MODEL_cbe9a7a8939441b090ddd522162f9ea4",
              "IPY_MODEL_be832c278df241f192b0e928cf30d16a",
              "IPY_MODEL_d3c5bf388d074bd79cd1687daca97305"
            ],
            "layout": "IPY_MODEL_d8808112104b4dd69e37c816a5fc280e"
          }
        },
        "cbe9a7a8939441b090ddd522162f9ea4": {
          "model_module": "@jupyter-widgets/controls",
          "model_name": "HTMLModel",
          "model_module_version": "1.5.0",
          "state": {
            "_dom_classes": [],
            "_model_module": "@jupyter-widgets/controls",
            "_model_module_version": "1.5.0",
            "_model_name": "HTMLModel",
            "_view_count": null,
            "_view_module": "@jupyter-widgets/controls",
            "_view_module_version": "1.5.0",
            "_view_name": "HTMLView",
            "description": "",
            "description_tooltip": null,
            "layout": "IPY_MODEL_0fdb847161f448ba9a6228bf6294c096",
            "placeholder": "​",
            "style": "IPY_MODEL_fa445a1b5a674be2b95f3716451a0159",
            "value": "Running 100 simulations in 100 batches.: 100%"
          }
        },
        "be832c278df241f192b0e928cf30d16a": {
          "model_module": "@jupyter-widgets/controls",
          "model_name": "FloatProgressModel",
          "model_module_version": "1.5.0",
          "state": {
            "_dom_classes": [],
            "_model_module": "@jupyter-widgets/controls",
            "_model_module_version": "1.5.0",
            "_model_name": "FloatProgressModel",
            "_view_count": null,
            "_view_module": "@jupyter-widgets/controls",
            "_view_module_version": "1.5.0",
            "_view_name": "ProgressView",
            "bar_style": "success",
            "description": "",
            "description_tooltip": null,
            "layout": "IPY_MODEL_8a645a9b7ff44ba0bf1d74f763f1829e",
            "max": 100,
            "min": 0,
            "orientation": "horizontal",
            "style": "IPY_MODEL_aefe124ab1784a1f8d9d4445169bfd79",
            "value": 100
          }
        },
        "d3c5bf388d074bd79cd1687daca97305": {
          "model_module": "@jupyter-widgets/controls",
          "model_name": "HTMLModel",
          "model_module_version": "1.5.0",
          "state": {
            "_dom_classes": [],
            "_model_module": "@jupyter-widgets/controls",
            "_model_module_version": "1.5.0",
            "_model_name": "HTMLModel",
            "_view_count": null,
            "_view_module": "@jupyter-widgets/controls",
            "_view_module_version": "1.5.0",
            "_view_name": "HTMLView",
            "description": "",
            "description_tooltip": null,
            "layout": "IPY_MODEL_a51dedac7ddb4907b73020f1248fbac2",
            "placeholder": "​",
            "style": "IPY_MODEL_4da5d560eb974dcf8e44c03d1809b0a9",
            "value": " 100/100 [03:09&lt;00:00,  1.50s/it]"
          }
        },
        "d8808112104b4dd69e37c816a5fc280e": {
          "model_module": "@jupyter-widgets/base",
          "model_name": "LayoutModel",
          "model_module_version": "1.2.0",
          "state": {
            "_model_module": "@jupyter-widgets/base",
            "_model_module_version": "1.2.0",
            "_model_name": "LayoutModel",
            "_view_count": null,
            "_view_module": "@jupyter-widgets/base",
            "_view_module_version": "1.2.0",
            "_view_name": "LayoutView",
            "align_content": null,
            "align_items": null,
            "align_self": null,
            "border": null,
            "bottom": null,
            "display": null,
            "flex": null,
            "flex_flow": null,
            "grid_area": null,
            "grid_auto_columns": null,
            "grid_auto_flow": null,
            "grid_auto_rows": null,
            "grid_column": null,
            "grid_gap": null,
            "grid_row": null,
            "grid_template_areas": null,
            "grid_template_columns": null,
            "grid_template_rows": null,
            "height": null,
            "justify_content": null,
            "justify_items": null,
            "left": null,
            "margin": null,
            "max_height": null,
            "max_width": null,
            "min_height": null,
            "min_width": null,
            "object_fit": null,
            "object_position": null,
            "order": null,
            "overflow": null,
            "overflow_x": null,
            "overflow_y": null,
            "padding": null,
            "right": null,
            "top": null,
            "visibility": null,
            "width": null
          }
        },
        "0fdb847161f448ba9a6228bf6294c096": {
          "model_module": "@jupyter-widgets/base",
          "model_name": "LayoutModel",
          "model_module_version": "1.2.0",
          "state": {
            "_model_module": "@jupyter-widgets/base",
            "_model_module_version": "1.2.0",
            "_model_name": "LayoutModel",
            "_view_count": null,
            "_view_module": "@jupyter-widgets/base",
            "_view_module_version": "1.2.0",
            "_view_name": "LayoutView",
            "align_content": null,
            "align_items": null,
            "align_self": null,
            "border": null,
            "bottom": null,
            "display": null,
            "flex": null,
            "flex_flow": null,
            "grid_area": null,
            "grid_auto_columns": null,
            "grid_auto_flow": null,
            "grid_auto_rows": null,
            "grid_column": null,
            "grid_gap": null,
            "grid_row": null,
            "grid_template_areas": null,
            "grid_template_columns": null,
            "grid_template_rows": null,
            "height": null,
            "justify_content": null,
            "justify_items": null,
            "left": null,
            "margin": null,
            "max_height": null,
            "max_width": null,
            "min_height": null,
            "min_width": null,
            "object_fit": null,
            "object_position": null,
            "order": null,
            "overflow": null,
            "overflow_x": null,
            "overflow_y": null,
            "padding": null,
            "right": null,
            "top": null,
            "visibility": null,
            "width": null
          }
        },
        "fa445a1b5a674be2b95f3716451a0159": {
          "model_module": "@jupyter-widgets/controls",
          "model_name": "DescriptionStyleModel",
          "model_module_version": "1.5.0",
          "state": {
            "_model_module": "@jupyter-widgets/controls",
            "_model_module_version": "1.5.0",
            "_model_name": "DescriptionStyleModel",
            "_view_count": null,
            "_view_module": "@jupyter-widgets/base",
            "_view_module_version": "1.2.0",
            "_view_name": "StyleView",
            "description_width": ""
          }
        },
        "8a645a9b7ff44ba0bf1d74f763f1829e": {
          "model_module": "@jupyter-widgets/base",
          "model_name": "LayoutModel",
          "model_module_version": "1.2.0",
          "state": {
            "_model_module": "@jupyter-widgets/base",
            "_model_module_version": "1.2.0",
            "_model_name": "LayoutModel",
            "_view_count": null,
            "_view_module": "@jupyter-widgets/base",
            "_view_module_version": "1.2.0",
            "_view_name": "LayoutView",
            "align_content": null,
            "align_items": null,
            "align_self": null,
            "border": null,
            "bottom": null,
            "display": null,
            "flex": null,
            "flex_flow": null,
            "grid_area": null,
            "grid_auto_columns": null,
            "grid_auto_flow": null,
            "grid_auto_rows": null,
            "grid_column": null,
            "grid_gap": null,
            "grid_row": null,
            "grid_template_areas": null,
            "grid_template_columns": null,
            "grid_template_rows": null,
            "height": null,
            "justify_content": null,
            "justify_items": null,
            "left": null,
            "margin": null,
            "max_height": null,
            "max_width": null,
            "min_height": null,
            "min_width": null,
            "object_fit": null,
            "object_position": null,
            "order": null,
            "overflow": null,
            "overflow_x": null,
            "overflow_y": null,
            "padding": null,
            "right": null,
            "top": null,
            "visibility": null,
            "width": null
          }
        },
        "aefe124ab1784a1f8d9d4445169bfd79": {
          "model_module": "@jupyter-widgets/controls",
          "model_name": "ProgressStyleModel",
          "model_module_version": "1.5.0",
          "state": {
            "_model_module": "@jupyter-widgets/controls",
            "_model_module_version": "1.5.0",
            "_model_name": "ProgressStyleModel",
            "_view_count": null,
            "_view_module": "@jupyter-widgets/base",
            "_view_module_version": "1.2.0",
            "_view_name": "StyleView",
            "bar_color": null,
            "description_width": ""
          }
        },
        "a51dedac7ddb4907b73020f1248fbac2": {
          "model_module": "@jupyter-widgets/base",
          "model_name": "LayoutModel",
          "model_module_version": "1.2.0",
          "state": {
            "_model_module": "@jupyter-widgets/base",
            "_model_module_version": "1.2.0",
            "_model_name": "LayoutModel",
            "_view_count": null,
            "_view_module": "@jupyter-widgets/base",
            "_view_module_version": "1.2.0",
            "_view_name": "LayoutView",
            "align_content": null,
            "align_items": null,
            "align_self": null,
            "border": null,
            "bottom": null,
            "display": null,
            "flex": null,
            "flex_flow": null,
            "grid_area": null,
            "grid_auto_columns": null,
            "grid_auto_flow": null,
            "grid_auto_rows": null,
            "grid_column": null,
            "grid_gap": null,
            "grid_row": null,
            "grid_template_areas": null,
            "grid_template_columns": null,
            "grid_template_rows": null,
            "height": null,
            "justify_content": null,
            "justify_items": null,
            "left": null,
            "margin": null,
            "max_height": null,
            "max_width": null,
            "min_height": null,
            "min_width": null,
            "object_fit": null,
            "object_position": null,
            "order": null,
            "overflow": null,
            "overflow_x": null,
            "overflow_y": null,
            "padding": null,
            "right": null,
            "top": null,
            "visibility": null,
            "width": null
          }
        },
        "4da5d560eb974dcf8e44c03d1809b0a9": {
          "model_module": "@jupyter-widgets/controls",
          "model_name": "DescriptionStyleModel",
          "model_module_version": "1.5.0",
          "state": {
            "_model_module": "@jupyter-widgets/controls",
            "_model_module_version": "1.5.0",
            "_model_name": "DescriptionStyleModel",
            "_view_count": null,
            "_view_module": "@jupyter-widgets/base",
            "_view_module_version": "1.2.0",
            "_view_name": "StyleView",
            "description_width": ""
          }
        },
        "a5b0a5335f274addaf0ec31f2a2418be": {
          "model_module": "@jupyter-widgets/controls",
          "model_name": "HBoxModel",
          "model_module_version": "1.5.0",
          "state": {
            "_dom_classes": [],
            "_model_module": "@jupyter-widgets/controls",
            "_model_module_version": "1.5.0",
            "_model_name": "HBoxModel",
            "_view_count": null,
            "_view_module": "@jupyter-widgets/controls",
            "_view_module_version": "1.5.0",
            "_view_name": "HBoxView",
            "box_style": "",
            "children": [
              "IPY_MODEL_6543b48645324fba8948591b9f457fad",
              "IPY_MODEL_460eb07e966f42d38051df52a742a00c",
              "IPY_MODEL_c0cf7a7ec1d045729c1bf08a15f66c24"
            ],
            "layout": "IPY_MODEL_a9ce79001853480baef800db8f971092"
          }
        },
        "6543b48645324fba8948591b9f457fad": {
          "model_module": "@jupyter-widgets/controls",
          "model_name": "HTMLModel",
          "model_module_version": "1.5.0",
          "state": {
            "_dom_classes": [],
            "_model_module": "@jupyter-widgets/controls",
            "_model_module_version": "1.5.0",
            "_model_name": "HTMLModel",
            "_view_count": null,
            "_view_module": "@jupyter-widgets/controls",
            "_view_module_version": "1.5.0",
            "_view_name": "HTMLView",
            "description": "",
            "description_tooltip": null,
            "layout": "IPY_MODEL_2c38ba59725b4bcf89389a8d065e4f40",
            "placeholder": "​",
            "style": "IPY_MODEL_5c56f513dfe840ab934cf29d7f9de42f",
            "value": "Drawing 100 posterior samples: 100%"
          }
        },
        "460eb07e966f42d38051df52a742a00c": {
          "model_module": "@jupyter-widgets/controls",
          "model_name": "FloatProgressModel",
          "model_module_version": "1.5.0",
          "state": {
            "_dom_classes": [],
            "_model_module": "@jupyter-widgets/controls",
            "_model_module_version": "1.5.0",
            "_model_name": "FloatProgressModel",
            "_view_count": null,
            "_view_module": "@jupyter-widgets/controls",
            "_view_module_version": "1.5.0",
            "_view_name": "ProgressView",
            "bar_style": "success",
            "description": "",
            "description_tooltip": null,
            "layout": "IPY_MODEL_697f99d0480c4c0084b6bf0ced9e02f3",
            "max": 100,
            "min": 0,
            "orientation": "horizontal",
            "style": "IPY_MODEL_6ff44322c89243d1af7930794af99032",
            "value": 100
          }
        },
        "c0cf7a7ec1d045729c1bf08a15f66c24": {
          "model_module": "@jupyter-widgets/controls",
          "model_name": "HTMLModel",
          "model_module_version": "1.5.0",
          "state": {
            "_dom_classes": [],
            "_model_module": "@jupyter-widgets/controls",
            "_model_module_version": "1.5.0",
            "_model_name": "HTMLModel",
            "_view_count": null,
            "_view_module": "@jupyter-widgets/controls",
            "_view_module_version": "1.5.0",
            "_view_name": "HTMLView",
            "description": "",
            "description_tooltip": null,
            "layout": "IPY_MODEL_fd0b175a6da54adea30b8cfb6192cc37",
            "placeholder": "​",
            "style": "IPY_MODEL_3a187bf58e254fc09709d4837ddfdde8",
            "value": " 100/100 [00:00&lt;00:00, 2149.72it/s]"
          }
        },
        "a9ce79001853480baef800db8f971092": {
          "model_module": "@jupyter-widgets/base",
          "model_name": "LayoutModel",
          "model_module_version": "1.2.0",
          "state": {
            "_model_module": "@jupyter-widgets/base",
            "_model_module_version": "1.2.0",
            "_model_name": "LayoutModel",
            "_view_count": null,
            "_view_module": "@jupyter-widgets/base",
            "_view_module_version": "1.2.0",
            "_view_name": "LayoutView",
            "align_content": null,
            "align_items": null,
            "align_self": null,
            "border": null,
            "bottom": null,
            "display": null,
            "flex": null,
            "flex_flow": null,
            "grid_area": null,
            "grid_auto_columns": null,
            "grid_auto_flow": null,
            "grid_auto_rows": null,
            "grid_column": null,
            "grid_gap": null,
            "grid_row": null,
            "grid_template_areas": null,
            "grid_template_columns": null,
            "grid_template_rows": null,
            "height": null,
            "justify_content": null,
            "justify_items": null,
            "left": null,
            "margin": null,
            "max_height": null,
            "max_width": null,
            "min_height": null,
            "min_width": null,
            "object_fit": null,
            "object_position": null,
            "order": null,
            "overflow": null,
            "overflow_x": null,
            "overflow_y": null,
            "padding": null,
            "right": null,
            "top": null,
            "visibility": null,
            "width": null
          }
        },
        "2c38ba59725b4bcf89389a8d065e4f40": {
          "model_module": "@jupyter-widgets/base",
          "model_name": "LayoutModel",
          "model_module_version": "1.2.0",
          "state": {
            "_model_module": "@jupyter-widgets/base",
            "_model_module_version": "1.2.0",
            "_model_name": "LayoutModel",
            "_view_count": null,
            "_view_module": "@jupyter-widgets/base",
            "_view_module_version": "1.2.0",
            "_view_name": "LayoutView",
            "align_content": null,
            "align_items": null,
            "align_self": null,
            "border": null,
            "bottom": null,
            "display": null,
            "flex": null,
            "flex_flow": null,
            "grid_area": null,
            "grid_auto_columns": null,
            "grid_auto_flow": null,
            "grid_auto_rows": null,
            "grid_column": null,
            "grid_gap": null,
            "grid_row": null,
            "grid_template_areas": null,
            "grid_template_columns": null,
            "grid_template_rows": null,
            "height": null,
            "justify_content": null,
            "justify_items": null,
            "left": null,
            "margin": null,
            "max_height": null,
            "max_width": null,
            "min_height": null,
            "min_width": null,
            "object_fit": null,
            "object_position": null,
            "order": null,
            "overflow": null,
            "overflow_x": null,
            "overflow_y": null,
            "padding": null,
            "right": null,
            "top": null,
            "visibility": null,
            "width": null
          }
        },
        "5c56f513dfe840ab934cf29d7f9de42f": {
          "model_module": "@jupyter-widgets/controls",
          "model_name": "DescriptionStyleModel",
          "model_module_version": "1.5.0",
          "state": {
            "_model_module": "@jupyter-widgets/controls",
            "_model_module_version": "1.5.0",
            "_model_name": "DescriptionStyleModel",
            "_view_count": null,
            "_view_module": "@jupyter-widgets/base",
            "_view_module_version": "1.2.0",
            "_view_name": "StyleView",
            "description_width": ""
          }
        },
        "697f99d0480c4c0084b6bf0ced9e02f3": {
          "model_module": "@jupyter-widgets/base",
          "model_name": "LayoutModel",
          "model_module_version": "1.2.0",
          "state": {
            "_model_module": "@jupyter-widgets/base",
            "_model_module_version": "1.2.0",
            "_model_name": "LayoutModel",
            "_view_count": null,
            "_view_module": "@jupyter-widgets/base",
            "_view_module_version": "1.2.0",
            "_view_name": "LayoutView",
            "align_content": null,
            "align_items": null,
            "align_self": null,
            "border": null,
            "bottom": null,
            "display": null,
            "flex": null,
            "flex_flow": null,
            "grid_area": null,
            "grid_auto_columns": null,
            "grid_auto_flow": null,
            "grid_auto_rows": null,
            "grid_column": null,
            "grid_gap": null,
            "grid_row": null,
            "grid_template_areas": null,
            "grid_template_columns": null,
            "grid_template_rows": null,
            "height": null,
            "justify_content": null,
            "justify_items": null,
            "left": null,
            "margin": null,
            "max_height": null,
            "max_width": null,
            "min_height": null,
            "min_width": null,
            "object_fit": null,
            "object_position": null,
            "order": null,
            "overflow": null,
            "overflow_x": null,
            "overflow_y": null,
            "padding": null,
            "right": null,
            "top": null,
            "visibility": null,
            "width": null
          }
        },
        "6ff44322c89243d1af7930794af99032": {
          "model_module": "@jupyter-widgets/controls",
          "model_name": "ProgressStyleModel",
          "model_module_version": "1.5.0",
          "state": {
            "_model_module": "@jupyter-widgets/controls",
            "_model_module_version": "1.5.0",
            "_model_name": "ProgressStyleModel",
            "_view_count": null,
            "_view_module": "@jupyter-widgets/base",
            "_view_module_version": "1.2.0",
            "_view_name": "StyleView",
            "bar_color": null,
            "description_width": ""
          }
        },
        "fd0b175a6da54adea30b8cfb6192cc37": {
          "model_module": "@jupyter-widgets/base",
          "model_name": "LayoutModel",
          "model_module_version": "1.2.0",
          "state": {
            "_model_module": "@jupyter-widgets/base",
            "_model_module_version": "1.2.0",
            "_model_name": "LayoutModel",
            "_view_count": null,
            "_view_module": "@jupyter-widgets/base",
            "_view_module_version": "1.2.0",
            "_view_name": "LayoutView",
            "align_content": null,
            "align_items": null,
            "align_self": null,
            "border": null,
            "bottom": null,
            "display": null,
            "flex": null,
            "flex_flow": null,
            "grid_area": null,
            "grid_auto_columns": null,
            "grid_auto_flow": null,
            "grid_auto_rows": null,
            "grid_column": null,
            "grid_gap": null,
            "grid_row": null,
            "grid_template_areas": null,
            "grid_template_columns": null,
            "grid_template_rows": null,
            "height": null,
            "justify_content": null,
            "justify_items": null,
            "left": null,
            "margin": null,
            "max_height": null,
            "max_width": null,
            "min_height": null,
            "min_width": null,
            "object_fit": null,
            "object_position": null,
            "order": null,
            "overflow": null,
            "overflow_x": null,
            "overflow_y": null,
            "padding": null,
            "right": null,
            "top": null,
            "visibility": null,
            "width": null
          }
        },
        "3a187bf58e254fc09709d4837ddfdde8": {
          "model_module": "@jupyter-widgets/controls",
          "model_name": "DescriptionStyleModel",
          "model_module_version": "1.5.0",
          "state": {
            "_model_module": "@jupyter-widgets/controls",
            "_model_module_version": "1.5.0",
            "_model_name": "DescriptionStyleModel",
            "_view_count": null,
            "_view_module": "@jupyter-widgets/base",
            "_view_module_version": "1.2.0",
            "_view_name": "StyleView",
            "description_width": ""
          }
        },
        "fe544e1363b6484f8d65183ac1190b84": {
          "model_module": "@jupyter-widgets/controls",
          "model_name": "HBoxModel",
          "model_module_version": "1.5.0",
          "state": {
            "_dom_classes": [],
            "_model_module": "@jupyter-widgets/controls",
            "_model_module_version": "1.5.0",
            "_model_name": "HBoxModel",
            "_view_count": null,
            "_view_module": "@jupyter-widgets/controls",
            "_view_module_version": "1.5.0",
            "_view_name": "HBoxView",
            "box_style": "",
            "children": [
              "IPY_MODEL_d6c7888373344ca88790b944b50738eb",
              "IPY_MODEL_be19bef614c844ff804b08f752a84a0f",
              "IPY_MODEL_160894037bbf40dda01428619b7e45ac"
            ],
            "layout": "IPY_MODEL_23ad0d87305841099b3f7d45dec841f4"
          }
        },
        "d6c7888373344ca88790b944b50738eb": {
          "model_module": "@jupyter-widgets/controls",
          "model_name": "HTMLModel",
          "model_module_version": "1.5.0",
          "state": {
            "_dom_classes": [],
            "_model_module": "@jupyter-widgets/controls",
            "_model_module_version": "1.5.0",
            "_model_name": "HTMLModel",
            "_view_count": null,
            "_view_module": "@jupyter-widgets/controls",
            "_view_module_version": "1.5.0",
            "_view_name": "HTMLView",
            "description": "",
            "description_tooltip": null,
            "layout": "IPY_MODEL_3b930b7794e44b0d8fa6918197e97c54",
            "placeholder": "​",
            "style": "IPY_MODEL_f44499575be04d3a8bf8a2a1988e0383",
            "value": "Running 100 simulations in 100 batches.: 100%"
          }
        },
        "be19bef614c844ff804b08f752a84a0f": {
          "model_module": "@jupyter-widgets/controls",
          "model_name": "FloatProgressModel",
          "model_module_version": "1.5.0",
          "state": {
            "_dom_classes": [],
            "_model_module": "@jupyter-widgets/controls",
            "_model_module_version": "1.5.0",
            "_model_name": "FloatProgressModel",
            "_view_count": null,
            "_view_module": "@jupyter-widgets/controls",
            "_view_module_version": "1.5.0",
            "_view_name": "ProgressView",
            "bar_style": "success",
            "description": "",
            "description_tooltip": null,
            "layout": "IPY_MODEL_741099faf4ec429b85b72c357e54fe90",
            "max": 100,
            "min": 0,
            "orientation": "horizontal",
            "style": "IPY_MODEL_519d74e0c9a243c7afd2edc86664fb8b",
            "value": 100
          }
        },
        "160894037bbf40dda01428619b7e45ac": {
          "model_module": "@jupyter-widgets/controls",
          "model_name": "HTMLModel",
          "model_module_version": "1.5.0",
          "state": {
            "_dom_classes": [],
            "_model_module": "@jupyter-widgets/controls",
            "_model_module_version": "1.5.0",
            "_model_name": "HTMLModel",
            "_view_count": null,
            "_view_module": "@jupyter-widgets/controls",
            "_view_module_version": "1.5.0",
            "_view_name": "HTMLView",
            "description": "",
            "description_tooltip": null,
            "layout": "IPY_MODEL_f5df1972af944ba7af037f8f404ae7a7",
            "placeholder": "​",
            "style": "IPY_MODEL_2c937f3ae2db47dcbaad9f998bfee0e6",
            "value": " 100/100 [03:01&lt;00:00,  1.53s/it]"
          }
        },
        "23ad0d87305841099b3f7d45dec841f4": {
          "model_module": "@jupyter-widgets/base",
          "model_name": "LayoutModel",
          "model_module_version": "1.2.0",
          "state": {
            "_model_module": "@jupyter-widgets/base",
            "_model_module_version": "1.2.0",
            "_model_name": "LayoutModel",
            "_view_count": null,
            "_view_module": "@jupyter-widgets/base",
            "_view_module_version": "1.2.0",
            "_view_name": "LayoutView",
            "align_content": null,
            "align_items": null,
            "align_self": null,
            "border": null,
            "bottom": null,
            "display": null,
            "flex": null,
            "flex_flow": null,
            "grid_area": null,
            "grid_auto_columns": null,
            "grid_auto_flow": null,
            "grid_auto_rows": null,
            "grid_column": null,
            "grid_gap": null,
            "grid_row": null,
            "grid_template_areas": null,
            "grid_template_columns": null,
            "grid_template_rows": null,
            "height": null,
            "justify_content": null,
            "justify_items": null,
            "left": null,
            "margin": null,
            "max_height": null,
            "max_width": null,
            "min_height": null,
            "min_width": null,
            "object_fit": null,
            "object_position": null,
            "order": null,
            "overflow": null,
            "overflow_x": null,
            "overflow_y": null,
            "padding": null,
            "right": null,
            "top": null,
            "visibility": null,
            "width": null
          }
        },
        "3b930b7794e44b0d8fa6918197e97c54": {
          "model_module": "@jupyter-widgets/base",
          "model_name": "LayoutModel",
          "model_module_version": "1.2.0",
          "state": {
            "_model_module": "@jupyter-widgets/base",
            "_model_module_version": "1.2.0",
            "_model_name": "LayoutModel",
            "_view_count": null,
            "_view_module": "@jupyter-widgets/base",
            "_view_module_version": "1.2.0",
            "_view_name": "LayoutView",
            "align_content": null,
            "align_items": null,
            "align_self": null,
            "border": null,
            "bottom": null,
            "display": null,
            "flex": null,
            "flex_flow": null,
            "grid_area": null,
            "grid_auto_columns": null,
            "grid_auto_flow": null,
            "grid_auto_rows": null,
            "grid_column": null,
            "grid_gap": null,
            "grid_row": null,
            "grid_template_areas": null,
            "grid_template_columns": null,
            "grid_template_rows": null,
            "height": null,
            "justify_content": null,
            "justify_items": null,
            "left": null,
            "margin": null,
            "max_height": null,
            "max_width": null,
            "min_height": null,
            "min_width": null,
            "object_fit": null,
            "object_position": null,
            "order": null,
            "overflow": null,
            "overflow_x": null,
            "overflow_y": null,
            "padding": null,
            "right": null,
            "top": null,
            "visibility": null,
            "width": null
          }
        },
        "f44499575be04d3a8bf8a2a1988e0383": {
          "model_module": "@jupyter-widgets/controls",
          "model_name": "DescriptionStyleModel",
          "model_module_version": "1.5.0",
          "state": {
            "_model_module": "@jupyter-widgets/controls",
            "_model_module_version": "1.5.0",
            "_model_name": "DescriptionStyleModel",
            "_view_count": null,
            "_view_module": "@jupyter-widgets/base",
            "_view_module_version": "1.2.0",
            "_view_name": "StyleView",
            "description_width": ""
          }
        },
        "741099faf4ec429b85b72c357e54fe90": {
          "model_module": "@jupyter-widgets/base",
          "model_name": "LayoutModel",
          "model_module_version": "1.2.0",
          "state": {
            "_model_module": "@jupyter-widgets/base",
            "_model_module_version": "1.2.0",
            "_model_name": "LayoutModel",
            "_view_count": null,
            "_view_module": "@jupyter-widgets/base",
            "_view_module_version": "1.2.0",
            "_view_name": "LayoutView",
            "align_content": null,
            "align_items": null,
            "align_self": null,
            "border": null,
            "bottom": null,
            "display": null,
            "flex": null,
            "flex_flow": null,
            "grid_area": null,
            "grid_auto_columns": null,
            "grid_auto_flow": null,
            "grid_auto_rows": null,
            "grid_column": null,
            "grid_gap": null,
            "grid_row": null,
            "grid_template_areas": null,
            "grid_template_columns": null,
            "grid_template_rows": null,
            "height": null,
            "justify_content": null,
            "justify_items": null,
            "left": null,
            "margin": null,
            "max_height": null,
            "max_width": null,
            "min_height": null,
            "min_width": null,
            "object_fit": null,
            "object_position": null,
            "order": null,
            "overflow": null,
            "overflow_x": null,
            "overflow_y": null,
            "padding": null,
            "right": null,
            "top": null,
            "visibility": null,
            "width": null
          }
        },
        "519d74e0c9a243c7afd2edc86664fb8b": {
          "model_module": "@jupyter-widgets/controls",
          "model_name": "ProgressStyleModel",
          "model_module_version": "1.5.0",
          "state": {
            "_model_module": "@jupyter-widgets/controls",
            "_model_module_version": "1.5.0",
            "_model_name": "ProgressStyleModel",
            "_view_count": null,
            "_view_module": "@jupyter-widgets/base",
            "_view_module_version": "1.2.0",
            "_view_name": "StyleView",
            "bar_color": null,
            "description_width": ""
          }
        },
        "f5df1972af944ba7af037f8f404ae7a7": {
          "model_module": "@jupyter-widgets/base",
          "model_name": "LayoutModel",
          "model_module_version": "1.2.0",
          "state": {
            "_model_module": "@jupyter-widgets/base",
            "_model_module_version": "1.2.0",
            "_model_name": "LayoutModel",
            "_view_count": null,
            "_view_module": "@jupyter-widgets/base",
            "_view_module_version": "1.2.0",
            "_view_name": "LayoutView",
            "align_content": null,
            "align_items": null,
            "align_self": null,
            "border": null,
            "bottom": null,
            "display": null,
            "flex": null,
            "flex_flow": null,
            "grid_area": null,
            "grid_auto_columns": null,
            "grid_auto_flow": null,
            "grid_auto_rows": null,
            "grid_column": null,
            "grid_gap": null,
            "grid_row": null,
            "grid_template_areas": null,
            "grid_template_columns": null,
            "grid_template_rows": null,
            "height": null,
            "justify_content": null,
            "justify_items": null,
            "left": null,
            "margin": null,
            "max_height": null,
            "max_width": null,
            "min_height": null,
            "min_width": null,
            "object_fit": null,
            "object_position": null,
            "order": null,
            "overflow": null,
            "overflow_x": null,
            "overflow_y": null,
            "padding": null,
            "right": null,
            "top": null,
            "visibility": null,
            "width": null
          }
        },
        "2c937f3ae2db47dcbaad9f998bfee0e6": {
          "model_module": "@jupyter-widgets/controls",
          "model_name": "DescriptionStyleModel",
          "model_module_version": "1.5.0",
          "state": {
            "_model_module": "@jupyter-widgets/controls",
            "_model_module_version": "1.5.0",
            "_model_name": "DescriptionStyleModel",
            "_view_count": null,
            "_view_module": "@jupyter-widgets/base",
            "_view_module_version": "1.2.0",
            "_view_name": "StyleView",
            "description_width": ""
          }
        },
        "c83f2a3c1d834023a789a7db7d78bea0": {
          "model_module": "@jupyter-widgets/controls",
          "model_name": "HBoxModel",
          "model_module_version": "1.5.0",
          "state": {
            "_dom_classes": [],
            "_model_module": "@jupyter-widgets/controls",
            "_model_module_version": "1.5.0",
            "_model_name": "HBoxModel",
            "_view_count": null,
            "_view_module": "@jupyter-widgets/controls",
            "_view_module_version": "1.5.0",
            "_view_name": "HBoxView",
            "box_style": "",
            "children": [
              "IPY_MODEL_47d42465933b436f9891c2696825c852",
              "IPY_MODEL_f2249873e3f04c049030ff63376253f7",
              "IPY_MODEL_c19dcbce9cb9436c82ffb94d2ff7f859"
            ],
            "layout": "IPY_MODEL_61e9553765854bc0bf611014c8e5db41"
          }
        },
        "47d42465933b436f9891c2696825c852": {
          "model_module": "@jupyter-widgets/controls",
          "model_name": "HTMLModel",
          "model_module_version": "1.5.0",
          "state": {
            "_dom_classes": [],
            "_model_module": "@jupyter-widgets/controls",
            "_model_module_version": "1.5.0",
            "_model_name": "HTMLModel",
            "_view_count": null,
            "_view_module": "@jupyter-widgets/controls",
            "_view_module_version": "1.5.0",
            "_view_name": "HTMLView",
            "description": "",
            "description_tooltip": null,
            "layout": "IPY_MODEL_e710ee5005c24b43aee054404bc0ec42",
            "placeholder": "​",
            "style": "IPY_MODEL_ae61eda1e2e640c5aaa4839a3abacbac",
            "value": "Drawing 100 posterior samples: 100%"
          }
        },
        "f2249873e3f04c049030ff63376253f7": {
          "model_module": "@jupyter-widgets/controls",
          "model_name": "FloatProgressModel",
          "model_module_version": "1.5.0",
          "state": {
            "_dom_classes": [],
            "_model_module": "@jupyter-widgets/controls",
            "_model_module_version": "1.5.0",
            "_model_name": "FloatProgressModel",
            "_view_count": null,
            "_view_module": "@jupyter-widgets/controls",
            "_view_module_version": "1.5.0",
            "_view_name": "ProgressView",
            "bar_style": "success",
            "description": "",
            "description_tooltip": null,
            "layout": "IPY_MODEL_737497e1216d441984d91e4a657c1192",
            "max": 100,
            "min": 0,
            "orientation": "horizontal",
            "style": "IPY_MODEL_ddf3a9d61c9248eab5724f53bb60e32e",
            "value": 100
          }
        },
        "c19dcbce9cb9436c82ffb94d2ff7f859": {
          "model_module": "@jupyter-widgets/controls",
          "model_name": "HTMLModel",
          "model_module_version": "1.5.0",
          "state": {
            "_dom_classes": [],
            "_model_module": "@jupyter-widgets/controls",
            "_model_module_version": "1.5.0",
            "_model_name": "HTMLModel",
            "_view_count": null,
            "_view_module": "@jupyter-widgets/controls",
            "_view_module_version": "1.5.0",
            "_view_name": "HTMLView",
            "description": "",
            "description_tooltip": null,
            "layout": "IPY_MODEL_27fc000fde864d35a69d18a26a9749bb",
            "placeholder": "​",
            "style": "IPY_MODEL_2c42950bd86546758de0a915ceac08a5",
            "value": " 100/100 [00:00&lt;00:00, 2272.90it/s]"
          }
        },
        "61e9553765854bc0bf611014c8e5db41": {
          "model_module": "@jupyter-widgets/base",
          "model_name": "LayoutModel",
          "model_module_version": "1.2.0",
          "state": {
            "_model_module": "@jupyter-widgets/base",
            "_model_module_version": "1.2.0",
            "_model_name": "LayoutModel",
            "_view_count": null,
            "_view_module": "@jupyter-widgets/base",
            "_view_module_version": "1.2.0",
            "_view_name": "LayoutView",
            "align_content": null,
            "align_items": null,
            "align_self": null,
            "border": null,
            "bottom": null,
            "display": null,
            "flex": null,
            "flex_flow": null,
            "grid_area": null,
            "grid_auto_columns": null,
            "grid_auto_flow": null,
            "grid_auto_rows": null,
            "grid_column": null,
            "grid_gap": null,
            "grid_row": null,
            "grid_template_areas": null,
            "grid_template_columns": null,
            "grid_template_rows": null,
            "height": null,
            "justify_content": null,
            "justify_items": null,
            "left": null,
            "margin": null,
            "max_height": null,
            "max_width": null,
            "min_height": null,
            "min_width": null,
            "object_fit": null,
            "object_position": null,
            "order": null,
            "overflow": null,
            "overflow_x": null,
            "overflow_y": null,
            "padding": null,
            "right": null,
            "top": null,
            "visibility": null,
            "width": null
          }
        },
        "e710ee5005c24b43aee054404bc0ec42": {
          "model_module": "@jupyter-widgets/base",
          "model_name": "LayoutModel",
          "model_module_version": "1.2.0",
          "state": {
            "_model_module": "@jupyter-widgets/base",
            "_model_module_version": "1.2.0",
            "_model_name": "LayoutModel",
            "_view_count": null,
            "_view_module": "@jupyter-widgets/base",
            "_view_module_version": "1.2.0",
            "_view_name": "LayoutView",
            "align_content": null,
            "align_items": null,
            "align_self": null,
            "border": null,
            "bottom": null,
            "display": null,
            "flex": null,
            "flex_flow": null,
            "grid_area": null,
            "grid_auto_columns": null,
            "grid_auto_flow": null,
            "grid_auto_rows": null,
            "grid_column": null,
            "grid_gap": null,
            "grid_row": null,
            "grid_template_areas": null,
            "grid_template_columns": null,
            "grid_template_rows": null,
            "height": null,
            "justify_content": null,
            "justify_items": null,
            "left": null,
            "margin": null,
            "max_height": null,
            "max_width": null,
            "min_height": null,
            "min_width": null,
            "object_fit": null,
            "object_position": null,
            "order": null,
            "overflow": null,
            "overflow_x": null,
            "overflow_y": null,
            "padding": null,
            "right": null,
            "top": null,
            "visibility": null,
            "width": null
          }
        },
        "ae61eda1e2e640c5aaa4839a3abacbac": {
          "model_module": "@jupyter-widgets/controls",
          "model_name": "DescriptionStyleModel",
          "model_module_version": "1.5.0",
          "state": {
            "_model_module": "@jupyter-widgets/controls",
            "_model_module_version": "1.5.0",
            "_model_name": "DescriptionStyleModel",
            "_view_count": null,
            "_view_module": "@jupyter-widgets/base",
            "_view_module_version": "1.2.0",
            "_view_name": "StyleView",
            "description_width": ""
          }
        },
        "737497e1216d441984d91e4a657c1192": {
          "model_module": "@jupyter-widgets/base",
          "model_name": "LayoutModel",
          "model_module_version": "1.2.0",
          "state": {
            "_model_module": "@jupyter-widgets/base",
            "_model_module_version": "1.2.0",
            "_model_name": "LayoutModel",
            "_view_count": null,
            "_view_module": "@jupyter-widgets/base",
            "_view_module_version": "1.2.0",
            "_view_name": "LayoutView",
            "align_content": null,
            "align_items": null,
            "align_self": null,
            "border": null,
            "bottom": null,
            "display": null,
            "flex": null,
            "flex_flow": null,
            "grid_area": null,
            "grid_auto_columns": null,
            "grid_auto_flow": null,
            "grid_auto_rows": null,
            "grid_column": null,
            "grid_gap": null,
            "grid_row": null,
            "grid_template_areas": null,
            "grid_template_columns": null,
            "grid_template_rows": null,
            "height": null,
            "justify_content": null,
            "justify_items": null,
            "left": null,
            "margin": null,
            "max_height": null,
            "max_width": null,
            "min_height": null,
            "min_width": null,
            "object_fit": null,
            "object_position": null,
            "order": null,
            "overflow": null,
            "overflow_x": null,
            "overflow_y": null,
            "padding": null,
            "right": null,
            "top": null,
            "visibility": null,
            "width": null
          }
        },
        "ddf3a9d61c9248eab5724f53bb60e32e": {
          "model_module": "@jupyter-widgets/controls",
          "model_name": "ProgressStyleModel",
          "model_module_version": "1.5.0",
          "state": {
            "_model_module": "@jupyter-widgets/controls",
            "_model_module_version": "1.5.0",
            "_model_name": "ProgressStyleModel",
            "_view_count": null,
            "_view_module": "@jupyter-widgets/base",
            "_view_module_version": "1.2.0",
            "_view_name": "StyleView",
            "bar_color": null,
            "description_width": ""
          }
        },
        "27fc000fde864d35a69d18a26a9749bb": {
          "model_module": "@jupyter-widgets/base",
          "model_name": "LayoutModel",
          "model_module_version": "1.2.0",
          "state": {
            "_model_module": "@jupyter-widgets/base",
            "_model_module_version": "1.2.0",
            "_model_name": "LayoutModel",
            "_view_count": null,
            "_view_module": "@jupyter-widgets/base",
            "_view_module_version": "1.2.0",
            "_view_name": "LayoutView",
            "align_content": null,
            "align_items": null,
            "align_self": null,
            "border": null,
            "bottom": null,
            "display": null,
            "flex": null,
            "flex_flow": null,
            "grid_area": null,
            "grid_auto_columns": null,
            "grid_auto_flow": null,
            "grid_auto_rows": null,
            "grid_column": null,
            "grid_gap": null,
            "grid_row": null,
            "grid_template_areas": null,
            "grid_template_columns": null,
            "grid_template_rows": null,
            "height": null,
            "justify_content": null,
            "justify_items": null,
            "left": null,
            "margin": null,
            "max_height": null,
            "max_width": null,
            "min_height": null,
            "min_width": null,
            "object_fit": null,
            "object_position": null,
            "order": null,
            "overflow": null,
            "overflow_x": null,
            "overflow_y": null,
            "padding": null,
            "right": null,
            "top": null,
            "visibility": null,
            "width": null
          }
        },
        "2c42950bd86546758de0a915ceac08a5": {
          "model_module": "@jupyter-widgets/controls",
          "model_name": "DescriptionStyleModel",
          "model_module_version": "1.5.0",
          "state": {
            "_model_module": "@jupyter-widgets/controls",
            "_model_module_version": "1.5.0",
            "_model_name": "DescriptionStyleModel",
            "_view_count": null,
            "_view_module": "@jupyter-widgets/base",
            "_view_module_version": "1.2.0",
            "_view_name": "StyleView",
            "description_width": ""
          }
        },
        "63366a5a17284b1290342a0f2295b12f": {
          "model_module": "@jupyter-widgets/controls",
          "model_name": "HBoxModel",
          "model_module_version": "1.5.0",
          "state": {
            "_dom_classes": [],
            "_model_module": "@jupyter-widgets/controls",
            "_model_module_version": "1.5.0",
            "_model_name": "HBoxModel",
            "_view_count": null,
            "_view_module": "@jupyter-widgets/controls",
            "_view_module_version": "1.5.0",
            "_view_name": "HBoxView",
            "box_style": "",
            "children": [
              "IPY_MODEL_557c96c8011a4ec5b4c26e9944d4ab39",
              "IPY_MODEL_88752b5c8104426086b10c06ddd30d9c",
              "IPY_MODEL_eed91009dfdc492c8ec737973bbcab34"
            ],
            "layout": "IPY_MODEL_1a81108349bd406189941c4344257fcd"
          }
        },
        "557c96c8011a4ec5b4c26e9944d4ab39": {
          "model_module": "@jupyter-widgets/controls",
          "model_name": "HTMLModel",
          "model_module_version": "1.5.0",
          "state": {
            "_dom_classes": [],
            "_model_module": "@jupyter-widgets/controls",
            "_model_module_version": "1.5.0",
            "_model_name": "HTMLModel",
            "_view_count": null,
            "_view_module": "@jupyter-widgets/controls",
            "_view_module_version": "1.5.0",
            "_view_name": "HTMLView",
            "description": "",
            "description_tooltip": null,
            "layout": "IPY_MODEL_72356e18b42e460a8d7618fd4ef40032",
            "placeholder": "​",
            "style": "IPY_MODEL_bdf18dc987ea4a2e9530afe4999fabd9",
            "value": "Running 100 simulations in 100 batches.: 100%"
          }
        },
        "88752b5c8104426086b10c06ddd30d9c": {
          "model_module": "@jupyter-widgets/controls",
          "model_name": "FloatProgressModel",
          "model_module_version": "1.5.0",
          "state": {
            "_dom_classes": [],
            "_model_module": "@jupyter-widgets/controls",
            "_model_module_version": "1.5.0",
            "_model_name": "FloatProgressModel",
            "_view_count": null,
            "_view_module": "@jupyter-widgets/controls",
            "_view_module_version": "1.5.0",
            "_view_name": "ProgressView",
            "bar_style": "success",
            "description": "",
            "description_tooltip": null,
            "layout": "IPY_MODEL_8978732e058d415bbe3e155aa7d6f900",
            "max": 100,
            "min": 0,
            "orientation": "horizontal",
            "style": "IPY_MODEL_98d727eb2f2c476a94c0421d003e8882",
            "value": 100
          }
        },
        "eed91009dfdc492c8ec737973bbcab34": {
          "model_module": "@jupyter-widgets/controls",
          "model_name": "HTMLModel",
          "model_module_version": "1.5.0",
          "state": {
            "_dom_classes": [],
            "_model_module": "@jupyter-widgets/controls",
            "_model_module_version": "1.5.0",
            "_model_name": "HTMLModel",
            "_view_count": null,
            "_view_module": "@jupyter-widgets/controls",
            "_view_module_version": "1.5.0",
            "_view_name": "HTMLView",
            "description": "",
            "description_tooltip": null,
            "layout": "IPY_MODEL_1d18e018e53c4f8a9cd96bc4c8bd4992",
            "placeholder": "​",
            "style": "IPY_MODEL_850d998c4cac40288aae009a15c36af1",
            "value": " 100/100 [03:02&lt;00:00,  1.93s/it]"
          }
        },
        "1a81108349bd406189941c4344257fcd": {
          "model_module": "@jupyter-widgets/base",
          "model_name": "LayoutModel",
          "model_module_version": "1.2.0",
          "state": {
            "_model_module": "@jupyter-widgets/base",
            "_model_module_version": "1.2.0",
            "_model_name": "LayoutModel",
            "_view_count": null,
            "_view_module": "@jupyter-widgets/base",
            "_view_module_version": "1.2.0",
            "_view_name": "LayoutView",
            "align_content": null,
            "align_items": null,
            "align_self": null,
            "border": null,
            "bottom": null,
            "display": null,
            "flex": null,
            "flex_flow": null,
            "grid_area": null,
            "grid_auto_columns": null,
            "grid_auto_flow": null,
            "grid_auto_rows": null,
            "grid_column": null,
            "grid_gap": null,
            "grid_row": null,
            "grid_template_areas": null,
            "grid_template_columns": null,
            "grid_template_rows": null,
            "height": null,
            "justify_content": null,
            "justify_items": null,
            "left": null,
            "margin": null,
            "max_height": null,
            "max_width": null,
            "min_height": null,
            "min_width": null,
            "object_fit": null,
            "object_position": null,
            "order": null,
            "overflow": null,
            "overflow_x": null,
            "overflow_y": null,
            "padding": null,
            "right": null,
            "top": null,
            "visibility": null,
            "width": null
          }
        },
        "72356e18b42e460a8d7618fd4ef40032": {
          "model_module": "@jupyter-widgets/base",
          "model_name": "LayoutModel",
          "model_module_version": "1.2.0",
          "state": {
            "_model_module": "@jupyter-widgets/base",
            "_model_module_version": "1.2.0",
            "_model_name": "LayoutModel",
            "_view_count": null,
            "_view_module": "@jupyter-widgets/base",
            "_view_module_version": "1.2.0",
            "_view_name": "LayoutView",
            "align_content": null,
            "align_items": null,
            "align_self": null,
            "border": null,
            "bottom": null,
            "display": null,
            "flex": null,
            "flex_flow": null,
            "grid_area": null,
            "grid_auto_columns": null,
            "grid_auto_flow": null,
            "grid_auto_rows": null,
            "grid_column": null,
            "grid_gap": null,
            "grid_row": null,
            "grid_template_areas": null,
            "grid_template_columns": null,
            "grid_template_rows": null,
            "height": null,
            "justify_content": null,
            "justify_items": null,
            "left": null,
            "margin": null,
            "max_height": null,
            "max_width": null,
            "min_height": null,
            "min_width": null,
            "object_fit": null,
            "object_position": null,
            "order": null,
            "overflow": null,
            "overflow_x": null,
            "overflow_y": null,
            "padding": null,
            "right": null,
            "top": null,
            "visibility": null,
            "width": null
          }
        },
        "bdf18dc987ea4a2e9530afe4999fabd9": {
          "model_module": "@jupyter-widgets/controls",
          "model_name": "DescriptionStyleModel",
          "model_module_version": "1.5.0",
          "state": {
            "_model_module": "@jupyter-widgets/controls",
            "_model_module_version": "1.5.0",
            "_model_name": "DescriptionStyleModel",
            "_view_count": null,
            "_view_module": "@jupyter-widgets/base",
            "_view_module_version": "1.2.0",
            "_view_name": "StyleView",
            "description_width": ""
          }
        },
        "8978732e058d415bbe3e155aa7d6f900": {
          "model_module": "@jupyter-widgets/base",
          "model_name": "LayoutModel",
          "model_module_version": "1.2.0",
          "state": {
            "_model_module": "@jupyter-widgets/base",
            "_model_module_version": "1.2.0",
            "_model_name": "LayoutModel",
            "_view_count": null,
            "_view_module": "@jupyter-widgets/base",
            "_view_module_version": "1.2.0",
            "_view_name": "LayoutView",
            "align_content": null,
            "align_items": null,
            "align_self": null,
            "border": null,
            "bottom": null,
            "display": null,
            "flex": null,
            "flex_flow": null,
            "grid_area": null,
            "grid_auto_columns": null,
            "grid_auto_flow": null,
            "grid_auto_rows": null,
            "grid_column": null,
            "grid_gap": null,
            "grid_row": null,
            "grid_template_areas": null,
            "grid_template_columns": null,
            "grid_template_rows": null,
            "height": null,
            "justify_content": null,
            "justify_items": null,
            "left": null,
            "margin": null,
            "max_height": null,
            "max_width": null,
            "min_height": null,
            "min_width": null,
            "object_fit": null,
            "object_position": null,
            "order": null,
            "overflow": null,
            "overflow_x": null,
            "overflow_y": null,
            "padding": null,
            "right": null,
            "top": null,
            "visibility": null,
            "width": null
          }
        },
        "98d727eb2f2c476a94c0421d003e8882": {
          "model_module": "@jupyter-widgets/controls",
          "model_name": "ProgressStyleModel",
          "model_module_version": "1.5.0",
          "state": {
            "_model_module": "@jupyter-widgets/controls",
            "_model_module_version": "1.5.0",
            "_model_name": "ProgressStyleModel",
            "_view_count": null,
            "_view_module": "@jupyter-widgets/base",
            "_view_module_version": "1.2.0",
            "_view_name": "StyleView",
            "bar_color": null,
            "description_width": ""
          }
        },
        "1d18e018e53c4f8a9cd96bc4c8bd4992": {
          "model_module": "@jupyter-widgets/base",
          "model_name": "LayoutModel",
          "model_module_version": "1.2.0",
          "state": {
            "_model_module": "@jupyter-widgets/base",
            "_model_module_version": "1.2.0",
            "_model_name": "LayoutModel",
            "_view_count": null,
            "_view_module": "@jupyter-widgets/base",
            "_view_module_version": "1.2.0",
            "_view_name": "LayoutView",
            "align_content": null,
            "align_items": null,
            "align_self": null,
            "border": null,
            "bottom": null,
            "display": null,
            "flex": null,
            "flex_flow": null,
            "grid_area": null,
            "grid_auto_columns": null,
            "grid_auto_flow": null,
            "grid_auto_rows": null,
            "grid_column": null,
            "grid_gap": null,
            "grid_row": null,
            "grid_template_areas": null,
            "grid_template_columns": null,
            "grid_template_rows": null,
            "height": null,
            "justify_content": null,
            "justify_items": null,
            "left": null,
            "margin": null,
            "max_height": null,
            "max_width": null,
            "min_height": null,
            "min_width": null,
            "object_fit": null,
            "object_position": null,
            "order": null,
            "overflow": null,
            "overflow_x": null,
            "overflow_y": null,
            "padding": null,
            "right": null,
            "top": null,
            "visibility": null,
            "width": null
          }
        },
        "850d998c4cac40288aae009a15c36af1": {
          "model_module": "@jupyter-widgets/controls",
          "model_name": "DescriptionStyleModel",
          "model_module_version": "1.5.0",
          "state": {
            "_model_module": "@jupyter-widgets/controls",
            "_model_module_version": "1.5.0",
            "_model_name": "DescriptionStyleModel",
            "_view_count": null,
            "_view_module": "@jupyter-widgets/base",
            "_view_module_version": "1.2.0",
            "_view_name": "StyleView",
            "description_width": ""
          }
        },
        "5afe37e06355459ea99112bcd81e0a67": {
          "model_module": "@jupyter-widgets/controls",
          "model_name": "HBoxModel",
          "model_module_version": "1.5.0",
          "state": {
            "_dom_classes": [],
            "_model_module": "@jupyter-widgets/controls",
            "_model_module_version": "1.5.0",
            "_model_name": "HBoxModel",
            "_view_count": null,
            "_view_module": "@jupyter-widgets/controls",
            "_view_module_version": "1.5.0",
            "_view_name": "HBoxView",
            "box_style": "",
            "children": [
              "IPY_MODEL_964001b1a0104fdeba73396fece4b9d2",
              "IPY_MODEL_1cd65f907f6c422b800056f7c28360e8",
              "IPY_MODEL_2726b44bec39490a836a6bdbe6970ad0"
            ],
            "layout": "IPY_MODEL_57eccadbd475427eb212409ca06b86fc"
          }
        },
        "964001b1a0104fdeba73396fece4b9d2": {
          "model_module": "@jupyter-widgets/controls",
          "model_name": "HTMLModel",
          "model_module_version": "1.5.0",
          "state": {
            "_dom_classes": [],
            "_model_module": "@jupyter-widgets/controls",
            "_model_module_version": "1.5.0",
            "_model_name": "HTMLModel",
            "_view_count": null,
            "_view_module": "@jupyter-widgets/controls",
            "_view_module_version": "1.5.0",
            "_view_name": "HTMLView",
            "description": "",
            "description_tooltip": null,
            "layout": "IPY_MODEL_f24f363a23b246e18ba76c1138be799e",
            "placeholder": "​",
            "style": "IPY_MODEL_a245e9f9e15946abb4c0171fb9f74173",
            "value": "Drawing 1000000 posterior samples: "
          }
        },
        "1cd65f907f6c422b800056f7c28360e8": {
          "model_module": "@jupyter-widgets/controls",
          "model_name": "FloatProgressModel",
          "model_module_version": "1.5.0",
          "state": {
            "_dom_classes": [],
            "_model_module": "@jupyter-widgets/controls",
            "_model_module_version": "1.5.0",
            "_model_name": "FloatProgressModel",
            "_view_count": null,
            "_view_module": "@jupyter-widgets/controls",
            "_view_module_version": "1.5.0",
            "_view_name": "ProgressView",
            "bar_style": "success",
            "description": "",
            "description_tooltip": null,
            "layout": "IPY_MODEL_c319cf8b85dd4678898b665bf0ec6d49",
            "max": 1000000,
            "min": 0,
            "orientation": "horizontal",
            "style": "IPY_MODEL_84af16a7f6644bacbad1f74258815ae5",
            "value": 1000000
          }
        },
        "2726b44bec39490a836a6bdbe6970ad0": {
          "model_module": "@jupyter-widgets/controls",
          "model_name": "HTMLModel",
          "model_module_version": "1.5.0",
          "state": {
            "_dom_classes": [],
            "_model_module": "@jupyter-widgets/controls",
            "_model_module_version": "1.5.0",
            "_model_name": "HTMLModel",
            "_view_count": null,
            "_view_module": "@jupyter-widgets/controls",
            "_view_module_version": "1.5.0",
            "_view_name": "HTMLView",
            "description": "",
            "description_tooltip": null,
            "layout": "IPY_MODEL_de614233b4684489bbe3d691a042d988",
            "placeholder": "​",
            "style": "IPY_MODEL_7abbebd30fa943a59e73956a1ea4f713",
            "value": " 1000074/? [00:00&lt;00:00, 2088791.45it/s]"
          }
        },
        "57eccadbd475427eb212409ca06b86fc": {
          "model_module": "@jupyter-widgets/base",
          "model_name": "LayoutModel",
          "model_module_version": "1.2.0",
          "state": {
            "_model_module": "@jupyter-widgets/base",
            "_model_module_version": "1.2.0",
            "_model_name": "LayoutModel",
            "_view_count": null,
            "_view_module": "@jupyter-widgets/base",
            "_view_module_version": "1.2.0",
            "_view_name": "LayoutView",
            "align_content": null,
            "align_items": null,
            "align_self": null,
            "border": null,
            "bottom": null,
            "display": null,
            "flex": null,
            "flex_flow": null,
            "grid_area": null,
            "grid_auto_columns": null,
            "grid_auto_flow": null,
            "grid_auto_rows": null,
            "grid_column": null,
            "grid_gap": null,
            "grid_row": null,
            "grid_template_areas": null,
            "grid_template_columns": null,
            "grid_template_rows": null,
            "height": null,
            "justify_content": null,
            "justify_items": null,
            "left": null,
            "margin": null,
            "max_height": null,
            "max_width": null,
            "min_height": null,
            "min_width": null,
            "object_fit": null,
            "object_position": null,
            "order": null,
            "overflow": null,
            "overflow_x": null,
            "overflow_y": null,
            "padding": null,
            "right": null,
            "top": null,
            "visibility": null,
            "width": null
          }
        },
        "f24f363a23b246e18ba76c1138be799e": {
          "model_module": "@jupyter-widgets/base",
          "model_name": "LayoutModel",
          "model_module_version": "1.2.0",
          "state": {
            "_model_module": "@jupyter-widgets/base",
            "_model_module_version": "1.2.0",
            "_model_name": "LayoutModel",
            "_view_count": null,
            "_view_module": "@jupyter-widgets/base",
            "_view_module_version": "1.2.0",
            "_view_name": "LayoutView",
            "align_content": null,
            "align_items": null,
            "align_self": null,
            "border": null,
            "bottom": null,
            "display": null,
            "flex": null,
            "flex_flow": null,
            "grid_area": null,
            "grid_auto_columns": null,
            "grid_auto_flow": null,
            "grid_auto_rows": null,
            "grid_column": null,
            "grid_gap": null,
            "grid_row": null,
            "grid_template_areas": null,
            "grid_template_columns": null,
            "grid_template_rows": null,
            "height": null,
            "justify_content": null,
            "justify_items": null,
            "left": null,
            "margin": null,
            "max_height": null,
            "max_width": null,
            "min_height": null,
            "min_width": null,
            "object_fit": null,
            "object_position": null,
            "order": null,
            "overflow": null,
            "overflow_x": null,
            "overflow_y": null,
            "padding": null,
            "right": null,
            "top": null,
            "visibility": null,
            "width": null
          }
        },
        "a245e9f9e15946abb4c0171fb9f74173": {
          "model_module": "@jupyter-widgets/controls",
          "model_name": "DescriptionStyleModel",
          "model_module_version": "1.5.0",
          "state": {
            "_model_module": "@jupyter-widgets/controls",
            "_model_module_version": "1.5.0",
            "_model_name": "DescriptionStyleModel",
            "_view_count": null,
            "_view_module": "@jupyter-widgets/base",
            "_view_module_version": "1.2.0",
            "_view_name": "StyleView",
            "description_width": ""
          }
        },
        "c319cf8b85dd4678898b665bf0ec6d49": {
          "model_module": "@jupyter-widgets/base",
          "model_name": "LayoutModel",
          "model_module_version": "1.2.0",
          "state": {
            "_model_module": "@jupyter-widgets/base",
            "_model_module_version": "1.2.0",
            "_model_name": "LayoutModel",
            "_view_count": null,
            "_view_module": "@jupyter-widgets/base",
            "_view_module_version": "1.2.0",
            "_view_name": "LayoutView",
            "align_content": null,
            "align_items": null,
            "align_self": null,
            "border": null,
            "bottom": null,
            "display": null,
            "flex": null,
            "flex_flow": null,
            "grid_area": null,
            "grid_auto_columns": null,
            "grid_auto_flow": null,
            "grid_auto_rows": null,
            "grid_column": null,
            "grid_gap": null,
            "grid_row": null,
            "grid_template_areas": null,
            "grid_template_columns": null,
            "grid_template_rows": null,
            "height": null,
            "justify_content": null,
            "justify_items": null,
            "left": null,
            "margin": null,
            "max_height": null,
            "max_width": null,
            "min_height": null,
            "min_width": null,
            "object_fit": null,
            "object_position": null,
            "order": null,
            "overflow": null,
            "overflow_x": null,
            "overflow_y": null,
            "padding": null,
            "right": null,
            "top": null,
            "visibility": null,
            "width": null
          }
        },
        "84af16a7f6644bacbad1f74258815ae5": {
          "model_module": "@jupyter-widgets/controls",
          "model_name": "ProgressStyleModel",
          "model_module_version": "1.5.0",
          "state": {
            "_model_module": "@jupyter-widgets/controls",
            "_model_module_version": "1.5.0",
            "_model_name": "ProgressStyleModel",
            "_view_count": null,
            "_view_module": "@jupyter-widgets/base",
            "_view_module_version": "1.2.0",
            "_view_name": "StyleView",
            "bar_color": null,
            "description_width": ""
          }
        },
        "de614233b4684489bbe3d691a042d988": {
          "model_module": "@jupyter-widgets/base",
          "model_name": "LayoutModel",
          "model_module_version": "1.2.0",
          "state": {
            "_model_module": "@jupyter-widgets/base",
            "_model_module_version": "1.2.0",
            "_model_name": "LayoutModel",
            "_view_count": null,
            "_view_module": "@jupyter-widgets/base",
            "_view_module_version": "1.2.0",
            "_view_name": "LayoutView",
            "align_content": null,
            "align_items": null,
            "align_self": null,
            "border": null,
            "bottom": null,
            "display": null,
            "flex": null,
            "flex_flow": null,
            "grid_area": null,
            "grid_auto_columns": null,
            "grid_auto_flow": null,
            "grid_auto_rows": null,
            "grid_column": null,
            "grid_gap": null,
            "grid_row": null,
            "grid_template_areas": null,
            "grid_template_columns": null,
            "grid_template_rows": null,
            "height": null,
            "justify_content": null,
            "justify_items": null,
            "left": null,
            "margin": null,
            "max_height": null,
            "max_width": null,
            "min_height": null,
            "min_width": null,
            "object_fit": null,
            "object_position": null,
            "order": null,
            "overflow": null,
            "overflow_x": null,
            "overflow_y": null,
            "padding": null,
            "right": null,
            "top": null,
            "visibility": null,
            "width": null
          }
        },
        "7abbebd30fa943a59e73956a1ea4f713": {
          "model_module": "@jupyter-widgets/controls",
          "model_name": "DescriptionStyleModel",
          "model_module_version": "1.5.0",
          "state": {
            "_model_module": "@jupyter-widgets/controls",
            "_model_module_version": "1.5.0",
            "_model_name": "DescriptionStyleModel",
            "_view_count": null,
            "_view_module": "@jupyter-widgets/base",
            "_view_module_version": "1.2.0",
            "_view_name": "StyleView",
            "description_width": ""
          }
        }
      }
    },
    "colab": {
      "provenance": [],
      "include_colab_link": true
    }
  },
  "nbformat": 4,
  "nbformat_minor": 5
}